{
  "nbformat": 4,
  "nbformat_minor": 0,
  "metadata": {
    "colab": {
      "provenance": []
    },
    "kernelspec": {
      "name": "python3",
      "display_name": "Python 3"
    },
    "language_info": {
      "name": "python"
    }
  },
  "cells": [
    {
      "cell_type": "code",
      "metadata": {
        "colab": {
          "base_uri": "https://localhost:8080/"
        },
        "id": "7Gfj_DOk1nky",
        "outputId": "486e070b-e808-461b-c444-b88186363e1b"
      },
      "source": [
        "print('-'*100)\n",
        "print('Ciencia de Datos para la Toma de Decisiones - Luis Carrillo')\n",
        "print('-'*100)"
      ],
      "execution_count": null,
      "outputs": [
        {
          "output_type": "stream",
          "text": [
            "----------------------------------------------------------------------------------------------------\n",
            "Ciencia de Datos para la Toma de Decisiones - Luis Carrillo\n",
            "----------------------------------------------------------------------------------------------------\n"
          ],
          "name": "stdout"
        }
      ]
    },
    {
      "cell_type": "markdown",
      "metadata": {
        "id": "V0GBGbYtsk2J"
      },
      "source": [
        "** **texto en negrita**Modelo** Predictivo para la Empresa Servicios Tecnologicos LYD utilizando la fuente de datos \"Amazon's Top 100 Best Selling Books list from 2010 to 2020\""
      ]
    },
    {
      "cell_type": "code",
      "metadata": {
        "id": "nqhDWHcksobl"
      },
      "source": [
        "import pandas as pd"
      ],
      "execution_count": null,
      "outputs": []
    },
    {
      "cell_type": "markdown",
      "metadata": {
        "id": "XKaAL0D_vkKi"
      },
      "source": [
        "Se utiliza para abrir un archivo .csv en Python\n"
      ]
    },
    {
      "cell_type": "code",
      "metadata": {
        "id": "HNmGKnKmvuXr"
      },
      "source": [
        "amazon = pd.read_csv('data/Amazon.csv')"
      ],
      "execution_count": null,
      "outputs": []
    },
    {
      "cell_type": "code",
      "metadata": {
        "colab": {
          "base_uri": "https://localhost:8080/",
          "height": 424
        },
        "id": "ljvdTPGfv5xe",
        "outputId": "54b60db8-a50e-4cd8-ff27-2bbe2cc4feaf"
      },
      "source": [
        "amazon"
      ],
      "execution_count": null,
      "outputs": [
        {
          "output_type": "execute_result",
          "data": {
            "text/html": [
              "<div>\n",
              "<style scoped>\n",
              "    .dataframe tbody tr th:only-of-type {\n",
              "        vertical-align: middle;\n",
              "    }\n",
              "\n",
              "    .dataframe tbody tr th {\n",
              "        vertical-align: top;\n",
              "    }\n",
              "\n",
              "    .dataframe thead th {\n",
              "        text-align: right;\n",
              "    }\n",
              "</style>\n",
              "<table border=\"1\" class=\"dataframe\">\n",
              "  <thead>\n",
              "    <tr style=\"text-align: right;\">\n",
              "      <th></th>\n",
              "      <th>Year</th>\n",
              "      <th>Rank</th>\n",
              "      <th>Book_Title</th>\n",
              "      <th>Author</th>\n",
              "      <th>Rating</th>\n",
              "      <th>Num_Customers_Rated</th>\n",
              "      <th>Price</th>\n",
              "    </tr>\n",
              "  </thead>\n",
              "  <tbody>\n",
              "    <tr>\n",
              "      <th>0</th>\n",
              "      <td>2010</td>\n",
              "      <td>1</td>\n",
              "      <td>The Girl Who Kicked the Hornet's Nest (Millenn...</td>\n",
              "      <td>Stieg Larsson</td>\n",
              "      <td>4.7</td>\n",
              "      <td>8475</td>\n",
              "      <td>17.24</td>\n",
              "    </tr>\n",
              "    <tr>\n",
              "      <th>1</th>\n",
              "      <td>2010</td>\n",
              "      <td>2</td>\n",
              "      <td>The Girl with the Dragon Tattoo (Millennium Se...</td>\n",
              "      <td>Stieg Larsson</td>\n",
              "      <td>4.4</td>\n",
              "      <td>11516</td>\n",
              "      <td>9.99</td>\n",
              "    </tr>\n",
              "    <tr>\n",
              "      <th>2</th>\n",
              "      <td>2010</td>\n",
              "      <td>3</td>\n",
              "      <td>Decision Points</td>\n",
              "      <td>George W. Bush</td>\n",
              "      <td>4.6</td>\n",
              "      <td>2201</td>\n",
              "      <td>17.80</td>\n",
              "    </tr>\n",
              "    <tr>\n",
              "      <th>3</th>\n",
              "      <td>2010</td>\n",
              "      <td>4</td>\n",
              "      <td>The Help</td>\n",
              "      <td>Kathryn Stockett</td>\n",
              "      <td>4.8</td>\n",
              "      <td>14772</td>\n",
              "      <td>14.97</td>\n",
              "    </tr>\n",
              "    <tr>\n",
              "      <th>4</th>\n",
              "      <td>2010</td>\n",
              "      <td>5</td>\n",
              "      <td>The Girl Who Played with Fire (Millennium Series)</td>\n",
              "      <td>Stieg Larsson</td>\n",
              "      <td>4.7</td>\n",
              "      <td>7949</td>\n",
              "      <td>0.02</td>\n",
              "    </tr>\n",
              "    <tr>\n",
              "      <th>...</th>\n",
              "      <td>...</td>\n",
              "      <td>...</td>\n",
              "      <td>...</td>\n",
              "      <td>...</td>\n",
              "      <td>...</td>\n",
              "      <td>...</td>\n",
              "      <td>...</td>\n",
              "    </tr>\n",
              "    <tr>\n",
              "      <th>1089</th>\n",
              "      <td>2020</td>\n",
              "      <td>96</td>\n",
              "      <td>Relationship Goals: How to Win at Dating, Marr...</td>\n",
              "      <td>Michael Todd</td>\n",
              "      <td>4.8</td>\n",
              "      <td>13775</td>\n",
              "      <td>10.49</td>\n",
              "    </tr>\n",
              "    <tr>\n",
              "      <th>1090</th>\n",
              "      <td>2020</td>\n",
              "      <td>97</td>\n",
              "      <td>The Happy in a Hurry Cookbook: 100-Plus Fast a...</td>\n",
              "      <td>Steve Doocy</td>\n",
              "      <td>4.7</td>\n",
              "      <td>7923</td>\n",
              "      <td>20.98</td>\n",
              "    </tr>\n",
              "    <tr>\n",
              "      <th>1091</th>\n",
              "      <td>2020</td>\n",
              "      <td>98</td>\n",
              "      <td>Learn to Read: A Magical Sight Words and Phoni...</td>\n",
              "      <td>Modern Kid Press</td>\n",
              "      <td>4.7</td>\n",
              "      <td>9455</td>\n",
              "      <td>6.99</td>\n",
              "    </tr>\n",
              "    <tr>\n",
              "      <th>1092</th>\n",
              "      <td>2020</td>\n",
              "      <td>99</td>\n",
              "      <td>P is for Potty! (Sesame Street) (Lift-the-Flap)</td>\n",
              "      <td>Naomi Kleinberg</td>\n",
              "      <td>4.7</td>\n",
              "      <td>16340</td>\n",
              "      <td>5.68</td>\n",
              "    </tr>\n",
              "    <tr>\n",
              "      <th>1093</th>\n",
              "      <td>2020</td>\n",
              "      <td>100</td>\n",
              "      <td>Player's Handbook (Dungeons &amp; Dragons)</td>\n",
              "      <td>Wizards RPG Team</td>\n",
              "      <td>4.8</td>\n",
              "      <td>24240</td>\n",
              "      <td>17.98</td>\n",
              "    </tr>\n",
              "  </tbody>\n",
              "</table>\n",
              "<p>1094 rows × 7 columns</p>\n",
              "</div>"
            ],
            "text/plain": [
              "      Year  Rank  ... Num_Customers_Rated  Price\n",
              "0     2010     1  ...                8475  17.24\n",
              "1     2010     2  ...               11516   9.99\n",
              "2     2010     3  ...                2201  17.80\n",
              "3     2010     4  ...               14772  14.97\n",
              "4     2010     5  ...                7949   0.02\n",
              "...    ...   ...  ...                 ...    ...\n",
              "1089  2020    96  ...               13775  10.49\n",
              "1090  2020    97  ...                7923  20.98\n",
              "1091  2020    98  ...                9455   6.99\n",
              "1092  2020    99  ...               16340   5.68\n",
              "1093  2020   100  ...               24240  17.98\n",
              "\n",
              "[1094 rows x 7 columns]"
            ]
          },
          "metadata": {
            "tags": []
          },
          "execution_count": 176
        }
      ]
    },
    {
      "cell_type": "markdown",
      "metadata": {
        "id": "F3mNjS4EwHG_"
      },
      "source": [
        "Carga y muestra toda la información del dataset el cual contiene los 100 productos más vendidos de Amazon por categoría."
      ]
    },
    {
      "cell_type": "code",
      "metadata": {
        "colab": {
          "base_uri": "https://localhost:8080/"
        },
        "id": "a6CYXcCEwKgx",
        "outputId": "09d04b16-2ae2-4ff3-8887-f69b29aa3536"
      },
      "source": [
        "amazon.columns"
      ],
      "execution_count": null,
      "outputs": [
        {
          "output_type": "execute_result",
          "data": {
            "text/plain": [
              "Index(['Year', 'Rank', 'Book_Title', 'Author', 'Rating', 'Num_Customers_Rated',\n",
              "       'Price'],\n",
              "      dtype='object')"
            ]
          },
          "metadata": {
            "tags": []
          },
          "execution_count": 177
        }
      ]
    },
    {
      "cell_type": "markdown",
      "metadata": {
        "id": "lqL2JxOQxcz6"
      },
      "source": [
        "Muestra las 7 columnas que clasifican el dataset separadas por coma."
      ]
    },
    {
      "cell_type": "code",
      "metadata": {
        "colab": {
          "base_uri": "https://localhost:8080/"
        },
        "id": "z9dHZfRaxeey",
        "outputId": "7746b697-2e9d-46dc-a8ed-d0ed428f6f45"
      },
      "source": [
        "amazon.describe"
      ],
      "execution_count": null,
      "outputs": [
        {
          "output_type": "execute_result",
          "data": {
            "text/plain": [
              "<bound method NDFrame.describe of       Year  Rank  ... Num_Customers_Rated  Price\n",
              "0     2010     1  ...                8475  17.24\n",
              "1     2010     2  ...               11516   9.99\n",
              "2     2010     3  ...                2201  17.80\n",
              "3     2010     4  ...               14772  14.97\n",
              "4     2010     5  ...                7949   0.02\n",
              "...    ...   ...  ...                 ...    ...\n",
              "1089  2020    96  ...               13775  10.49\n",
              "1090  2020    97  ...                7923  20.98\n",
              "1091  2020    98  ...                9455   6.99\n",
              "1092  2020    99  ...               16340   5.68\n",
              "1093  2020   100  ...               24240  17.98\n",
              "\n",
              "[1094 rows x 7 columns]>"
            ]
          },
          "metadata": {
            "tags": []
          },
          "execution_count": 178
        }
      ]
    },
    {
      "cell_type": "code",
      "metadata": {
        "colab": {
          "base_uri": "https://localhost:8080/",
          "height": 300
        },
        "id": "0BPM7RTSxruy",
        "outputId": "0738faf4-b8eb-4ccf-d23a-9667f3db6368"
      },
      "source": [
        "amazon_reducido = amazon[amazon['Rating']>=4.5] #filtrar los mayores igual a 4.5\n",
        "amazon_reducido = amazon_reducido[amazon_reducido['Rating']<=5.0] #filtra los menores igual a 5\n",
        "amazon_reducido.describe()"
      ],
      "execution_count": null,
      "outputs": [
        {
          "output_type": "execute_result",
          "data": {
            "text/html": [
              "<div>\n",
              "<style scoped>\n",
              "    .dataframe tbody tr th:only-of-type {\n",
              "        vertical-align: middle;\n",
              "    }\n",
              "\n",
              "    .dataframe tbody tr th {\n",
              "        vertical-align: top;\n",
              "    }\n",
              "\n",
              "    .dataframe thead th {\n",
              "        text-align: right;\n",
              "    }\n",
              "</style>\n",
              "<table border=\"1\" class=\"dataframe\">\n",
              "  <thead>\n",
              "    <tr style=\"text-align: right;\">\n",
              "      <th></th>\n",
              "      <th>Year</th>\n",
              "      <th>Rank</th>\n",
              "      <th>Rating</th>\n",
              "      <th>Num_Customers_Rated</th>\n",
              "      <th>Price</th>\n",
              "    </tr>\n",
              "  </thead>\n",
              "  <tbody>\n",
              "    <tr>\n",
              "      <th>count</th>\n",
              "      <td>919.000000</td>\n",
              "      <td>919.000000</td>\n",
              "      <td>919.000000</td>\n",
              "      <td>919.000000</td>\n",
              "      <td>919.000000</td>\n",
              "    </tr>\n",
              "    <tr>\n",
              "      <th>mean</th>\n",
              "      <td>2015.268770</td>\n",
              "      <td>50.544070</td>\n",
              "      <td>4.704897</td>\n",
              "      <td>14724.427639</td>\n",
              "      <td>10.329151</td>\n",
              "    </tr>\n",
              "    <tr>\n",
              "      <th>std</th>\n",
              "      <td>3.150304</td>\n",
              "      <td>28.844523</td>\n",
              "      <td>0.120944</td>\n",
              "      <td>14295.872457</td>\n",
              "      <td>11.943173</td>\n",
              "    </tr>\n",
              "    <tr>\n",
              "      <th>min</th>\n",
              "      <td>2010.000000</td>\n",
              "      <td>1.000000</td>\n",
              "      <td>4.500000</td>\n",
              "      <td>4.000000</td>\n",
              "      <td>0.020000</td>\n",
              "    </tr>\n",
              "    <tr>\n",
              "      <th>25%</th>\n",
              "      <td>2013.000000</td>\n",
              "      <td>26.000000</td>\n",
              "      <td>4.600000</td>\n",
              "      <td>5358.500000</td>\n",
              "      <td>2.480000</td>\n",
              "    </tr>\n",
              "    <tr>\n",
              "      <th>50%</th>\n",
              "      <td>2015.000000</td>\n",
              "      <td>50.000000</td>\n",
              "      <td>4.700000</td>\n",
              "      <td>11053.000000</td>\n",
              "      <td>8.390000</td>\n",
              "    </tr>\n",
              "    <tr>\n",
              "      <th>75%</th>\n",
              "      <td>2018.000000</td>\n",
              "      <td>76.000000</td>\n",
              "      <td>4.800000</td>\n",
              "      <td>20403.500000</td>\n",
              "      <td>14.990000</td>\n",
              "    </tr>\n",
              "    <tr>\n",
              "      <th>max</th>\n",
              "      <td>2020.000000</td>\n",
              "      <td>100.000000</td>\n",
              "      <td>4.900000</td>\n",
              "      <td>126619.000000</td>\n",
              "      <td>152.000000</td>\n",
              "    </tr>\n",
              "  </tbody>\n",
              "</table>\n",
              "</div>"
            ],
            "text/plain": [
              "              Year        Rank      Rating  Num_Customers_Rated       Price\n",
              "count   919.000000  919.000000  919.000000           919.000000  919.000000\n",
              "mean   2015.268770   50.544070    4.704897         14724.427639   10.329151\n",
              "std       3.150304   28.844523    0.120944         14295.872457   11.943173\n",
              "min    2010.000000    1.000000    4.500000             4.000000    0.020000\n",
              "25%    2013.000000   26.000000    4.600000          5358.500000    2.480000\n",
              "50%    2015.000000   50.000000    4.700000         11053.000000    8.390000\n",
              "75%    2018.000000   76.000000    4.800000         20403.500000   14.990000\n",
              "max    2020.000000  100.000000    4.900000        126619.000000  152.000000"
            ]
          },
          "metadata": {
            "tags": []
          },
          "execution_count": 179
        }
      ]
    },
    {
      "cell_type": "markdown",
      "metadata": {
        "id": "BRmUHNs5yJGr"
      },
      "source": [
        "En este caso se filtra para solo tener información sobre los productos que tienen un rating comprendido entre 4.5 y 4.9 estrellas.\n",
        "\n",
        "El resultado nos indica que de un total de 1094 productos son 919 los que cumplen con este criterio y la media del rating es de 4.71 estrellas sobre 5.0"
      ]
    },
    {
      "cell_type": "code",
      "metadata": {
        "colab": {
          "base_uri": "https://localhost:8080/"
        },
        "id": "wX6WrYUFyLoV",
        "outputId": "a344ad2c-2388-4eab-bd2f-2cf55f8a22f7"
      },
      "source": [
        "len(amazon)-len(amazon_reducido)"
      ],
      "execution_count": null,
      "outputs": [
        {
          "output_type": "execute_result",
          "data": {
            "text/plain": [
              "175"
            ]
          },
          "metadata": {
            "tags": []
          },
          "execution_count": 180
        }
      ]
    },
    {
      "cell_type": "markdown",
      "metadata": {
        "id": "oSdtIC-9yOKn"
      },
      "source": [
        "En relación a lo anterior, indica la cantidad total de productos menos la cantidad que cumplen con el criterio de tener una puntuación superior a 4.5 estrellas. Es decir la cantidad de productor que quedan por fuera al momento de filtrar."
      ]
    },
    {
      "cell_type": "code",
      "metadata": {
        "colab": {
          "base_uri": "https://localhost:8080/",
          "height": 424
        },
        "id": "Xezg2dZkyRt5",
        "outputId": "4103add9-3890-4d73-df54-ec19cfc7bd5e"
      },
      "source": [
        "amazon[['Book_Title', 'Rating']]"
      ],
      "execution_count": null,
      "outputs": [
        {
          "output_type": "execute_result",
          "data": {
            "text/html": [
              "<div>\n",
              "<style scoped>\n",
              "    .dataframe tbody tr th:only-of-type {\n",
              "        vertical-align: middle;\n",
              "    }\n",
              "\n",
              "    .dataframe tbody tr th {\n",
              "        vertical-align: top;\n",
              "    }\n",
              "\n",
              "    .dataframe thead th {\n",
              "        text-align: right;\n",
              "    }\n",
              "</style>\n",
              "<table border=\"1\" class=\"dataframe\">\n",
              "  <thead>\n",
              "    <tr style=\"text-align: right;\">\n",
              "      <th></th>\n",
              "      <th>Book_Title</th>\n",
              "      <th>Rating</th>\n",
              "    </tr>\n",
              "  </thead>\n",
              "  <tbody>\n",
              "    <tr>\n",
              "      <th>0</th>\n",
              "      <td>The Girl Who Kicked the Hornet's Nest (Millenn...</td>\n",
              "      <td>4.7</td>\n",
              "    </tr>\n",
              "    <tr>\n",
              "      <th>1</th>\n",
              "      <td>The Girl with the Dragon Tattoo (Millennium Se...</td>\n",
              "      <td>4.4</td>\n",
              "    </tr>\n",
              "    <tr>\n",
              "      <th>2</th>\n",
              "      <td>Decision Points</td>\n",
              "      <td>4.6</td>\n",
              "    </tr>\n",
              "    <tr>\n",
              "      <th>3</th>\n",
              "      <td>The Help</td>\n",
              "      <td>4.8</td>\n",
              "    </tr>\n",
              "    <tr>\n",
              "      <th>4</th>\n",
              "      <td>The Girl Who Played with Fire (Millennium Series)</td>\n",
              "      <td>4.7</td>\n",
              "    </tr>\n",
              "    <tr>\n",
              "      <th>...</th>\n",
              "      <td>...</td>\n",
              "      <td>...</td>\n",
              "    </tr>\n",
              "    <tr>\n",
              "      <th>1089</th>\n",
              "      <td>Relationship Goals: How to Win at Dating, Marr...</td>\n",
              "      <td>4.8</td>\n",
              "    </tr>\n",
              "    <tr>\n",
              "      <th>1090</th>\n",
              "      <td>The Happy in a Hurry Cookbook: 100-Plus Fast a...</td>\n",
              "      <td>4.7</td>\n",
              "    </tr>\n",
              "    <tr>\n",
              "      <th>1091</th>\n",
              "      <td>Learn to Read: A Magical Sight Words and Phoni...</td>\n",
              "      <td>4.7</td>\n",
              "    </tr>\n",
              "    <tr>\n",
              "      <th>1092</th>\n",
              "      <td>P is for Potty! (Sesame Street) (Lift-the-Flap)</td>\n",
              "      <td>4.7</td>\n",
              "    </tr>\n",
              "    <tr>\n",
              "      <th>1093</th>\n",
              "      <td>Player's Handbook (Dungeons &amp; Dragons)</td>\n",
              "      <td>4.8</td>\n",
              "    </tr>\n",
              "  </tbody>\n",
              "</table>\n",
              "<p>1094 rows × 2 columns</p>\n",
              "</div>"
            ],
            "text/plain": [
              "                                             Book_Title  Rating\n",
              "0     The Girl Who Kicked the Hornet's Nest (Millenn...     4.7\n",
              "1     The Girl with the Dragon Tattoo (Millennium Se...     4.4\n",
              "2                                       Decision Points     4.6\n",
              "3                                              The Help     4.8\n",
              "4     The Girl Who Played with Fire (Millennium Series)     4.7\n",
              "...                                                 ...     ...\n",
              "1089  Relationship Goals: How to Win at Dating, Marr...     4.8\n",
              "1090  The Happy in a Hurry Cookbook: 100-Plus Fast a...     4.7\n",
              "1091  Learn to Read: A Magical Sight Words and Phoni...     4.7\n",
              "1092    P is for Potty! (Sesame Street) (Lift-the-Flap)     4.7\n",
              "1093             Player's Handbook (Dungeons & Dragons)     4.8\n",
              "\n",
              "[1094 rows x 2 columns]"
            ]
          },
          "metadata": {
            "tags": []
          },
          "execution_count": 181
        }
      ]
    },
    {
      "cell_type": "markdown",
      "metadata": {
        "id": "RFoo9oQwynmg"
      },
      "source": [
        "Una forma de mostrar únicamente ciertas columnas de interés, por ejemplo el Link de cada producto y el rating del mismo."
      ]
    },
    {
      "cell_type": "code",
      "metadata": {
        "colab": {
          "base_uri": "https://localhost:8080/",
          "height": 414
        },
        "id": "ow3Rm6n5zAAQ",
        "outputId": "c8cddee5-d4d6-4aff-f704-5407901caf2a"
      },
      "source": [
        "amazon"
      ],
      "execution_count": null,
      "outputs": [
        {
          "output_type": "execute_result",
          "data": {
            "text/html": [
              "<div>\n",
              "<style scoped>\n",
              "    .dataframe tbody tr th:only-of-type {\n",
              "        vertical-align: middle;\n",
              "    }\n",
              "\n",
              "    .dataframe tbody tr th {\n",
              "        vertical-align: top;\n",
              "    }\n",
              "\n",
              "    .dataframe thead th {\n",
              "        text-align: right;\n",
              "    }\n",
              "</style>\n",
              "<table border=\"1\" class=\"dataframe\">\n",
              "  <thead>\n",
              "    <tr style=\"text-align: right;\">\n",
              "      <th></th>\n",
              "      <th>Year</th>\n",
              "      <th>Rank</th>\n",
              "      <th>Book_Title</th>\n",
              "      <th>Author</th>\n",
              "      <th>Rating</th>\n",
              "      <th>Num_Customers_Rated</th>\n",
              "      <th>Price</th>\n",
              "    </tr>\n",
              "  </thead>\n",
              "  <tbody>\n",
              "    <tr>\n",
              "      <th>0</th>\n",
              "      <td>2010</td>\n",
              "      <td>1</td>\n",
              "      <td>The Girl Who Kicked the Hornet's Nest (Millenn...</td>\n",
              "      <td>Stieg Larsson</td>\n",
              "      <td>4.7</td>\n",
              "      <td>8475</td>\n",
              "      <td>17.24</td>\n",
              "    </tr>\n",
              "    <tr>\n",
              "      <th>1</th>\n",
              "      <td>2010</td>\n",
              "      <td>2</td>\n",
              "      <td>The Girl with the Dragon Tattoo (Millennium Se...</td>\n",
              "      <td>Stieg Larsson</td>\n",
              "      <td>4.4</td>\n",
              "      <td>11516</td>\n",
              "      <td>9.99</td>\n",
              "    </tr>\n",
              "    <tr>\n",
              "      <th>2</th>\n",
              "      <td>2010</td>\n",
              "      <td>3</td>\n",
              "      <td>Decision Points</td>\n",
              "      <td>George W. Bush</td>\n",
              "      <td>4.6</td>\n",
              "      <td>2201</td>\n",
              "      <td>17.80</td>\n",
              "    </tr>\n",
              "    <tr>\n",
              "      <th>3</th>\n",
              "      <td>2010</td>\n",
              "      <td>4</td>\n",
              "      <td>The Help</td>\n",
              "      <td>Kathryn Stockett</td>\n",
              "      <td>4.8</td>\n",
              "      <td>14772</td>\n",
              "      <td>14.97</td>\n",
              "    </tr>\n",
              "    <tr>\n",
              "      <th>4</th>\n",
              "      <td>2010</td>\n",
              "      <td>5</td>\n",
              "      <td>The Girl Who Played with Fire (Millennium Series)</td>\n",
              "      <td>Stieg Larsson</td>\n",
              "      <td>4.7</td>\n",
              "      <td>7949</td>\n",
              "      <td>0.02</td>\n",
              "    </tr>\n",
              "    <tr>\n",
              "      <th>...</th>\n",
              "      <td>...</td>\n",
              "      <td>...</td>\n",
              "      <td>...</td>\n",
              "      <td>...</td>\n",
              "      <td>...</td>\n",
              "      <td>...</td>\n",
              "      <td>...</td>\n",
              "    </tr>\n",
              "    <tr>\n",
              "      <th>1089</th>\n",
              "      <td>2020</td>\n",
              "      <td>96</td>\n",
              "      <td>Relationship Goals: How to Win at Dating, Marr...</td>\n",
              "      <td>Michael Todd</td>\n",
              "      <td>4.8</td>\n",
              "      <td>13775</td>\n",
              "      <td>10.49</td>\n",
              "    </tr>\n",
              "    <tr>\n",
              "      <th>1090</th>\n",
              "      <td>2020</td>\n",
              "      <td>97</td>\n",
              "      <td>The Happy in a Hurry Cookbook: 100-Plus Fast a...</td>\n",
              "      <td>Steve Doocy</td>\n",
              "      <td>4.7</td>\n",
              "      <td>7923</td>\n",
              "      <td>20.98</td>\n",
              "    </tr>\n",
              "    <tr>\n",
              "      <th>1091</th>\n",
              "      <td>2020</td>\n",
              "      <td>98</td>\n",
              "      <td>Learn to Read: A Magical Sight Words and Phoni...</td>\n",
              "      <td>Modern Kid Press</td>\n",
              "      <td>4.7</td>\n",
              "      <td>9455</td>\n",
              "      <td>6.99</td>\n",
              "    </tr>\n",
              "    <tr>\n",
              "      <th>1092</th>\n",
              "      <td>2020</td>\n",
              "      <td>99</td>\n",
              "      <td>P is for Potty! (Sesame Street) (Lift-the-Flap)</td>\n",
              "      <td>Naomi Kleinberg</td>\n",
              "      <td>4.7</td>\n",
              "      <td>16340</td>\n",
              "      <td>5.68</td>\n",
              "    </tr>\n",
              "    <tr>\n",
              "      <th>1093</th>\n",
              "      <td>2020</td>\n",
              "      <td>100</td>\n",
              "      <td>Player's Handbook (Dungeons &amp; Dragons)</td>\n",
              "      <td>Wizards RPG Team</td>\n",
              "      <td>4.8</td>\n",
              "      <td>24240</td>\n",
              "      <td>17.98</td>\n",
              "    </tr>\n",
              "  </tbody>\n",
              "</table>\n",
              "<p>1094 rows × 7 columns</p>\n",
              "</div>"
            ],
            "text/plain": [
              "      Year  Rank  ... Num_Customers_Rated  Price\n",
              "0     2010     1  ...                8475  17.24\n",
              "1     2010     2  ...               11516   9.99\n",
              "2     2010     3  ...                2201  17.80\n",
              "3     2010     4  ...               14772  14.97\n",
              "4     2010     5  ...                7949   0.02\n",
              "...    ...   ...  ...                 ...    ...\n",
              "1089  2020    96  ...               13775  10.49\n",
              "1090  2020    97  ...                7923  20.98\n",
              "1091  2020    98  ...                9455   6.99\n",
              "1092  2020    99  ...               16340   5.68\n",
              "1093  2020   100  ...               24240  17.98\n",
              "\n",
              "[1094 rows x 7 columns]"
            ]
          },
          "metadata": {
            "tags": []
          },
          "execution_count": 182
        }
      ]
    },
    {
      "cell_type": "code",
      "metadata": {
        "colab": {
          "base_uri": "https://localhost:8080/",
          "height": 422
        },
        "id": "t-jdEquGzGJh",
        "outputId": "c7503171-3904-4f4d-b76c-b215ac49657e"
      },
      "source": [
        "amazon[['Rating']].hist(figsize=(15,6))"
      ],
      "execution_count": null,
      "outputs": [
        {
          "output_type": "execute_result",
          "data": {
            "text/plain": [
              "array([[<matplotlib.axes._subplots.AxesSubplot object at 0x7fbfc65ec0d0>]],\n",
              "      dtype=object)"
            ]
          },
          "metadata": {
            "tags": []
          },
          "execution_count": 183
        },
        {
          "output_type": "display_data",
          "data": {
            "image/png": "[encoded data removed]",
            "text/plain": [
              "<Figure size 1080x432 with 1 Axes>"
            ]
          },
          "metadata": {
            "tags": [],
            "needs_background": "light"
          }
        }
      ]
    },
    {
      "cell_type": "markdown",
      "metadata": {
        "id": "sA5c_H-xzKWO"
      },
      "source": [
        "El presente histograma muestra la distribución de productos respecto al Rating. Se oberva que Sobre la mitad mantiene una puntuación superior a las 4,5 Estrellas."
      ]
    },
    {
      "cell_type": "code",
      "metadata": {
        "colab": {
          "base_uri": "https://localhost:8080/",
          "height": 608
        },
        "id": "iTjqKuxYzQ_O",
        "outputId": "7ea54948-1bcc-4b58-c296-1f0b48e76c16"
      },
      "source": [
        " amazon.boxplot(column=['Rating'], figsize=(5,10))"
      ],
      "execution_count": null,
      "outputs": [
        {
          "output_type": "execute_result",
          "data": {
            "text/plain": [
              "<matplotlib.axes._subplots.AxesSubplot at 0x7fbfc6628610>"
            ]
          },
          "metadata": {
            "tags": []
          },
          "execution_count": 184
        },
        {
          "output_type": "display_data",
          "data": {
            "image/png": "[encoded data removed]",
            "text/plain": [
              "<Figure size 360x720 with 1 Axes>"
            ]
          },
          "metadata": {
            "tags": [],
            "needs_background": "light"
          }
        }
      ]
    },
    {
      "cell_type": "markdown",
      "metadata": {
        "id": "9jJPQXle9Oij"
      },
      "source": [
        "A pesar de que que la mayor concentración de datos se encuentran partiendo del 4.5. Es importante destacar que existen puntos dispersos que se alejan de la distribución, por lo que se evidencia la existencia de outliers."
      ]
    },
    {
      "cell_type": "code",
      "metadata": {
        "id": "zaMy7zWazYOU"
      },
      "source": [
        "import matplotlib.pyplot as plt"
      ],
      "execution_count": null,
      "outputs": []
    },
    {
      "cell_type": "code",
      "metadata": {
        "colab": {
          "base_uri": "https://localhost:8080/",
          "height": 390
        },
        "id": "RungbBUFze_u",
        "outputId": "4e95161c-8395-42cc-c2fd-0334372af2b8"
      },
      "source": [
        "plt.figure(figsize=(15,6))\n",
        "plt.title('Numero de reseñas por Rating')\n",
        "plt.scatter(amazon['Rating'], amazon['Num_Customers_Rated'], label='Numero de reseñas')\n",
        "plt.show()"
      ],
      "execution_count": null,
      "outputs": [
        {
          "output_type": "display_data",
          "data": {
            "image/png": "[encoded data removed]",
            "text/plain": [
              "<Figure size 1080x432 with 1 Axes>"
            ]
          },
          "metadata": {
            "tags": [],
            "needs_background": "light"
          }
        }
      ]
    },
    {
      "cell_type": "markdown",
      "metadata": {
        "id": "wzkRLn5jzyhx"
      },
      "source": [
        "Es evidente que mientras mayor puntuación tenga el producto es mayor es el número de reseñas que el mismo contiene"
      ]
    },
    {
      "cell_type": "code",
      "metadata": {
        "colab": {
          "base_uri": "https://localhost:8080/",
          "height": 390
        },
        "id": "pHZqs7NRz5Pm",
        "outputId": "2272353b-6417-4722-c954-93c5c6eb4c6c"
      },
      "source": [
        "plt.figure(figsize=(15,6))\n",
        "plt.title('Numero de reseñas/precio por Rating')\n",
        "plt.scatter(amazon['Rating'], amazon['Num_Customers_Rated'], label='Numero de reseñas')\n",
        "plt.scatter(amazon['Rating'], amazon['Price'], label='Precio')\n",
        "plt.legend()\n",
        "plt.show()"
      ],
      "execution_count": null,
      "outputs": [
        {
          "output_type": "display_data",
          "data": {
            "image/png": "[encoded data removed]",
            "text/plain": [
              "<Figure size 1080x432 with 1 Axes>"
            ]
          },
          "metadata": {
            "tags": [],
            "needs_background": "light"
          }
        }
      ]
    },
    {
      "cell_type": "markdown",
      "metadata": {
        "id": "PqA4hpZw0gZB"
      },
      "source": [
        "Tanto el número de reseñas como el precio son determinantes para la valoración del producto ya que el consumidor percibe que el precio del producto es adecuado o no y por otro lado también influye el total de reseñas en el proceso de compra y posterior valoración."
      ]
    },
    {
      "cell_type": "code",
      "metadata": {
        "id": "z8iNbU7y08ff"
      },
      "source": [
        "import seaborn as sns"
      ],
      "execution_count": null,
      "outputs": []
    },
    {
      "cell_type": "code",
      "metadata": {
        "colab": {
          "base_uri": "https://localhost:8080/"
        },
        "id": "gjq_EVi21ABV",
        "outputId": "7ab46067-4c15-4faf-ff0c-e50f8203dcc6"
      },
      "source": [
        "(amazon.Rating)"
      ],
      "execution_count": null,
      "outputs": [
        {
          "output_type": "execute_result",
          "data": {
            "text/plain": [
              "0       4.7\n",
              "1       4.4\n",
              "2       4.6\n",
              "3       4.8\n",
              "4       4.7\n",
              "       ... \n",
              "1089    4.8\n",
              "1090    4.7\n",
              "1091    4.7\n",
              "1092    4.7\n",
              "1093    4.8\n",
              "Name: Rating, Length: 1094, dtype: float64"
            ]
          },
          "metadata": {
            "tags": []
          },
          "execution_count": 190
        }
      ]
    },
    {
      "cell_type": "code",
      "metadata": {
        "colab": {
          "base_uri": "https://localhost:8080/",
          "height": 394
        },
        "id": "rFxRdd1x1DEs",
        "outputId": "08fe67ed-8ea7-4234-bddb-28d915a27982"
      },
      "source": [
        "amazon[10:21]"
      ],
      "execution_count": null,
      "outputs": [
        {
          "output_type": "execute_result",
          "data": {
            "text/html": [
              "<div>\n",
              "<style scoped>\n",
              "    .dataframe tbody tr th:only-of-type {\n",
              "        vertical-align: middle;\n",
              "    }\n",
              "\n",
              "    .dataframe tbody tr th {\n",
              "        vertical-align: top;\n",
              "    }\n",
              "\n",
              "    .dataframe thead th {\n",
              "        text-align: right;\n",
              "    }\n",
              "</style>\n",
              "<table border=\"1\" class=\"dataframe\">\n",
              "  <thead>\n",
              "    <tr style=\"text-align: right;\">\n",
              "      <th></th>\n",
              "      <th>Year</th>\n",
              "      <th>Rank</th>\n",
              "      <th>Book_Title</th>\n",
              "      <th>Author</th>\n",
              "      <th>Rating</th>\n",
              "      <th>Num_Customers_Rated</th>\n",
              "      <th>Price</th>\n",
              "    </tr>\n",
              "  </thead>\n",
              "  <tbody>\n",
              "    <tr>\n",
              "      <th>10</th>\n",
              "      <td>2010</td>\n",
              "      <td>11</td>\n",
              "      <td>Autobiography of Mark Twain, Vol. 1</td>\n",
              "      <td>Mark Twain</td>\n",
              "      <td>4.2</td>\n",
              "      <td>526</td>\n",
              "      <td>28.05</td>\n",
              "    </tr>\n",
              "    <tr>\n",
              "      <th>11</th>\n",
              "      <td>2010</td>\n",
              "      <td>12</td>\n",
              "      <td>The Big Short: Inside the Doomsday Machine</td>\n",
              "      <td>Michael Lewis</td>\n",
              "      <td>4.7</td>\n",
              "      <td>3943</td>\n",
              "      <td>18.75</td>\n",
              "    </tr>\n",
              "    <tr>\n",
              "      <th>12</th>\n",
              "      <td>2010</td>\n",
              "      <td>13</td>\n",
              "      <td>Food Rules: An Eater's Manual</td>\n",
              "      <td>Michael Pollan</td>\n",
              "      <td>4.5</td>\n",
              "      <td>1760</td>\n",
              "      <td>0.35</td>\n",
              "    </tr>\n",
              "    <tr>\n",
              "      <th>13</th>\n",
              "      <td>2010</td>\n",
              "      <td>14</td>\n",
              "      <td>Unbroken: A World War II Story of Survival, Re...</td>\n",
              "      <td>Laura Hillenbrand</td>\n",
              "      <td>4.8</td>\n",
              "      <td>30700</td>\n",
              "      <td>20.98</td>\n",
              "    </tr>\n",
              "    <tr>\n",
              "      <th>14</th>\n",
              "      <td>2010</td>\n",
              "      <td>15</td>\n",
              "      <td>Dead in the Family (Sookie Stackhouse/True Blo...</td>\n",
              "      <td>Charlaine Harris</td>\n",
              "      <td>4.4</td>\n",
              "      <td>2214</td>\n",
              "      <td>12.59</td>\n",
              "    </tr>\n",
              "    <tr>\n",
              "      <th>15</th>\n",
              "      <td>2010</td>\n",
              "      <td>16</td>\n",
              "      <td>Sh*t My Dad Says</td>\n",
              "      <td>Justin Halpern</td>\n",
              "      <td>4.7</td>\n",
              "      <td>1397</td>\n",
              "      <td>0.99</td>\n",
              "    </tr>\n",
              "    <tr>\n",
              "      <th>16</th>\n",
              "      <td>2010</td>\n",
              "      <td>17</td>\n",
              "      <td>Crazy Love: Overwhelmed by a Relentless God</td>\n",
              "      <td>Francis Chan</td>\n",
              "      <td>4.7</td>\n",
              "      <td>1664</td>\n",
              "      <td>14.98</td>\n",
              "    </tr>\n",
              "    <tr>\n",
              "      <th>17</th>\n",
              "      <td>2010</td>\n",
              "      <td>18</td>\n",
              "      <td>The Short Second Life of Bree Tanner: An Eclip...</td>\n",
              "      <td>Stephenie Meyer</td>\n",
              "      <td>4.7</td>\n",
              "      <td>3291</td>\n",
              "      <td>18.79</td>\n",
              "    </tr>\n",
              "    <tr>\n",
              "      <th>18</th>\n",
              "      <td>2010</td>\n",
              "      <td>19</td>\n",
              "      <td>Life</td>\n",
              "      <td>Keith Richards</td>\n",
              "      <td>4.5</td>\n",
              "      <td>3153</td>\n",
              "      <td>20.49</td>\n",
              "    </tr>\n",
              "    <tr>\n",
              "      <th>19</th>\n",
              "      <td>2010</td>\n",
              "      <td>20</td>\n",
              "      <td>Cutting for Stone</td>\n",
              "      <td>Abraham Verghese</td>\n",
              "      <td>4.6</td>\n",
              "      <td>5286</td>\n",
              "      <td>7.59</td>\n",
              "    </tr>\n",
              "    <tr>\n",
              "      <th>20</th>\n",
              "      <td>2010</td>\n",
              "      <td>21</td>\n",
              "      <td>The Daily Show with Jon Stewart Presents Earth...</td>\n",
              "      <td>Jon Stewart</td>\n",
              "      <td>4.5</td>\n",
              "      <td>483</td>\n",
              "      <td>16.28</td>\n",
              "    </tr>\n",
              "  </tbody>\n",
              "</table>\n",
              "</div>"
            ],
            "text/plain": [
              "    Year  Rank  ... Num_Customers_Rated  Price\n",
              "10  2010    11  ...                 526  28.05\n",
              "11  2010    12  ...                3943  18.75\n",
              "12  2010    13  ...                1760   0.35\n",
              "13  2010    14  ...               30700  20.98\n",
              "14  2010    15  ...                2214  12.59\n",
              "15  2010    16  ...                1397   0.99\n",
              "16  2010    17  ...                1664  14.98\n",
              "17  2010    18  ...                3291  18.79\n",
              "18  2010    19  ...                3153  20.49\n",
              "19  2010    20  ...                5286   7.59\n",
              "20  2010    21  ...                 483  16.28\n",
              "\n",
              "[11 rows x 7 columns]"
            ]
          },
          "metadata": {
            "tags": []
          },
          "execution_count": 191
        }
      ]
    },
    {
      "cell_type": "markdown",
      "metadata": {
        "id": "895JGYcH1HUX"
      },
      "source": [
        "Muestra de la posición 11 a la posición 21"
      ]
    },
    {
      "cell_type": "code",
      "metadata": {
        "colab": {
          "base_uri": "https://localhost:8080/",
          "height": 351
        },
        "id": "ngu5OiMJ1KHD",
        "outputId": "6232cedf-95b4-40f1-c8b6-9048a965d054"
      },
      "source": [
        "amazon[:10]"
      ],
      "execution_count": null,
      "outputs": [
        {
          "output_type": "execute_result",
          "data": {
            "text/html": [
              "<div>\n",
              "<style scoped>\n",
              "    .dataframe tbody tr th:only-of-type {\n",
              "        vertical-align: middle;\n",
              "    }\n",
              "\n",
              "    .dataframe tbody tr th {\n",
              "        vertical-align: top;\n",
              "    }\n",
              "\n",
              "    .dataframe thead th {\n",
              "        text-align: right;\n",
              "    }\n",
              "</style>\n",
              "<table border=\"1\" class=\"dataframe\">\n",
              "  <thead>\n",
              "    <tr style=\"text-align: right;\">\n",
              "      <th></th>\n",
              "      <th>Year</th>\n",
              "      <th>Rank</th>\n",
              "      <th>Book_Title</th>\n",
              "      <th>Author</th>\n",
              "      <th>Rating</th>\n",
              "      <th>Num_Customers_Rated</th>\n",
              "      <th>Price</th>\n",
              "    </tr>\n",
              "  </thead>\n",
              "  <tbody>\n",
              "    <tr>\n",
              "      <th>0</th>\n",
              "      <td>2010</td>\n",
              "      <td>1</td>\n",
              "      <td>The Girl Who Kicked the Hornet's Nest (Millenn...</td>\n",
              "      <td>Stieg Larsson</td>\n",
              "      <td>4.7</td>\n",
              "      <td>8475</td>\n",
              "      <td>17.24</td>\n",
              "    </tr>\n",
              "    <tr>\n",
              "      <th>1</th>\n",
              "      <td>2010</td>\n",
              "      <td>2</td>\n",
              "      <td>The Girl with the Dragon Tattoo (Millennium Se...</td>\n",
              "      <td>Stieg Larsson</td>\n",
              "      <td>4.4</td>\n",
              "      <td>11516</td>\n",
              "      <td>9.99</td>\n",
              "    </tr>\n",
              "    <tr>\n",
              "      <th>2</th>\n",
              "      <td>2010</td>\n",
              "      <td>3</td>\n",
              "      <td>Decision Points</td>\n",
              "      <td>George W. Bush</td>\n",
              "      <td>4.6</td>\n",
              "      <td>2201</td>\n",
              "      <td>17.80</td>\n",
              "    </tr>\n",
              "    <tr>\n",
              "      <th>3</th>\n",
              "      <td>2010</td>\n",
              "      <td>4</td>\n",
              "      <td>The Help</td>\n",
              "      <td>Kathryn Stockett</td>\n",
              "      <td>4.8</td>\n",
              "      <td>14772</td>\n",
              "      <td>14.97</td>\n",
              "    </tr>\n",
              "    <tr>\n",
              "      <th>4</th>\n",
              "      <td>2010</td>\n",
              "      <td>5</td>\n",
              "      <td>The Girl Who Played with Fire (Millennium Series)</td>\n",
              "      <td>Stieg Larsson</td>\n",
              "      <td>4.7</td>\n",
              "      <td>7949</td>\n",
              "      <td>0.02</td>\n",
              "    </tr>\n",
              "    <tr>\n",
              "      <th>5</th>\n",
              "      <td>2010</td>\n",
              "      <td>6</td>\n",
              "      <td>The Ugly Truth (Diary of a Wimpy Kid, Book 5)</td>\n",
              "      <td>Jeff Kinney</td>\n",
              "      <td>4.8</td>\n",
              "      <td>5312</td>\n",
              "      <td>9.52</td>\n",
              "    </tr>\n",
              "    <tr>\n",
              "      <th>6</th>\n",
              "      <td>2010</td>\n",
              "      <td>7</td>\n",
              "      <td>StrengthsFinder 2.0</td>\n",
              "      <td>Tom Rath</td>\n",
              "      <td>4.0</td>\n",
              "      <td>5517</td>\n",
              "      <td>15.79</td>\n",
              "    </tr>\n",
              "    <tr>\n",
              "      <th>7</th>\n",
              "      <td>2010</td>\n",
              "      <td>8</td>\n",
              "      <td>Mockingjay (The Hunger Games)</td>\n",
              "      <td>Suzanne Collins</td>\n",
              "      <td>4.5</td>\n",
              "      <td>28849</td>\n",
              "      <td>8.79</td>\n",
              "    </tr>\n",
              "    <tr>\n",
              "      <th>8</th>\n",
              "      <td>2010</td>\n",
              "      <td>9</td>\n",
              "      <td>Women Food and God: An Unexpected Path to Almo...</td>\n",
              "      <td>Geneen Roth</td>\n",
              "      <td>4.3</td>\n",
              "      <td>1484</td>\n",
              "      <td>12.44</td>\n",
              "    </tr>\n",
              "    <tr>\n",
              "      <th>9</th>\n",
              "      <td>2010</td>\n",
              "      <td>10</td>\n",
              "      <td>Publication Manual of the American Psychologic...</td>\n",
              "      <td>American Psychological Association</td>\n",
              "      <td>4.5</td>\n",
              "      <td>10383</td>\n",
              "      <td>15.99</td>\n",
              "    </tr>\n",
              "  </tbody>\n",
              "</table>\n",
              "</div>"
            ],
            "text/plain": [
              "   Year  Rank  ... Num_Customers_Rated  Price\n",
              "0  2010     1  ...                8475  17.24\n",
              "1  2010     2  ...               11516   9.99\n",
              "2  2010     3  ...                2201  17.80\n",
              "3  2010     4  ...               14772  14.97\n",
              "4  2010     5  ...                7949   0.02\n",
              "5  2010     6  ...                5312   9.52\n",
              "6  2010     7  ...                5517  15.79\n",
              "7  2010     8  ...               28849   8.79\n",
              "8  2010     9  ...                1484  12.44\n",
              "9  2010    10  ...               10383  15.99\n",
              "\n",
              "[10 rows x 7 columns]"
            ]
          },
          "metadata": {
            "tags": []
          },
          "execution_count": 192
        }
      ]
    },
    {
      "cell_type": "markdown",
      "metadata": {
        "id": "FBaRwVLq1P5m"
      },
      "source": [
        "Muestra las primeras 10 posiciones del raking contenidas en el dataset"
      ]
    },
    {
      "cell_type": "code",
      "metadata": {
        "colab": {
          "base_uri": "https://localhost:8080/",
          "height": 424
        },
        "id": "0YSuBj731SFm",
        "outputId": "3c76a894-44bf-417f-a9a1-4633d5f3b531"
      },
      "source": [
        "amazon[10:]"
      ],
      "execution_count": null,
      "outputs": [
        {
          "output_type": "execute_result",
          "data": {
            "text/html": [
              "<div>\n",
              "<style scoped>\n",
              "    .dataframe tbody tr th:only-of-type {\n",
              "        vertical-align: middle;\n",
              "    }\n",
              "\n",
              "    .dataframe tbody tr th {\n",
              "        vertical-align: top;\n",
              "    }\n",
              "\n",
              "    .dataframe thead th {\n",
              "        text-align: right;\n",
              "    }\n",
              "</style>\n",
              "<table border=\"1\" class=\"dataframe\">\n",
              "  <thead>\n",
              "    <tr style=\"text-align: right;\">\n",
              "      <th></th>\n",
              "      <th>Year</th>\n",
              "      <th>Rank</th>\n",
              "      <th>Book_Title</th>\n",
              "      <th>Author</th>\n",
              "      <th>Rating</th>\n",
              "      <th>Num_Customers_Rated</th>\n",
              "      <th>Price</th>\n",
              "    </tr>\n",
              "  </thead>\n",
              "  <tbody>\n",
              "    <tr>\n",
              "      <th>10</th>\n",
              "      <td>2010</td>\n",
              "      <td>11</td>\n",
              "      <td>Autobiography of Mark Twain, Vol. 1</td>\n",
              "      <td>Mark Twain</td>\n",
              "      <td>4.2</td>\n",
              "      <td>526</td>\n",
              "      <td>28.05</td>\n",
              "    </tr>\n",
              "    <tr>\n",
              "      <th>11</th>\n",
              "      <td>2010</td>\n",
              "      <td>12</td>\n",
              "      <td>The Big Short: Inside the Doomsday Machine</td>\n",
              "      <td>Michael Lewis</td>\n",
              "      <td>4.7</td>\n",
              "      <td>3943</td>\n",
              "      <td>18.75</td>\n",
              "    </tr>\n",
              "    <tr>\n",
              "      <th>12</th>\n",
              "      <td>2010</td>\n",
              "      <td>13</td>\n",
              "      <td>Food Rules: An Eater's Manual</td>\n",
              "      <td>Michael Pollan</td>\n",
              "      <td>4.5</td>\n",
              "      <td>1760</td>\n",
              "      <td>0.35</td>\n",
              "    </tr>\n",
              "    <tr>\n",
              "      <th>13</th>\n",
              "      <td>2010</td>\n",
              "      <td>14</td>\n",
              "      <td>Unbroken: A World War II Story of Survival, Re...</td>\n",
              "      <td>Laura Hillenbrand</td>\n",
              "      <td>4.8</td>\n",
              "      <td>30700</td>\n",
              "      <td>20.98</td>\n",
              "    </tr>\n",
              "    <tr>\n",
              "      <th>14</th>\n",
              "      <td>2010</td>\n",
              "      <td>15</td>\n",
              "      <td>Dead in the Family (Sookie Stackhouse/True Blo...</td>\n",
              "      <td>Charlaine Harris</td>\n",
              "      <td>4.4</td>\n",
              "      <td>2214</td>\n",
              "      <td>12.59</td>\n",
              "    </tr>\n",
              "    <tr>\n",
              "      <th>...</th>\n",
              "      <td>...</td>\n",
              "      <td>...</td>\n",
              "      <td>...</td>\n",
              "      <td>...</td>\n",
              "      <td>...</td>\n",
              "      <td>...</td>\n",
              "      <td>...</td>\n",
              "    </tr>\n",
              "    <tr>\n",
              "      <th>1089</th>\n",
              "      <td>2020</td>\n",
              "      <td>96</td>\n",
              "      <td>Relationship Goals: How to Win at Dating, Marr...</td>\n",
              "      <td>Michael Todd</td>\n",
              "      <td>4.8</td>\n",
              "      <td>13775</td>\n",
              "      <td>10.49</td>\n",
              "    </tr>\n",
              "    <tr>\n",
              "      <th>1090</th>\n",
              "      <td>2020</td>\n",
              "      <td>97</td>\n",
              "      <td>The Happy in a Hurry Cookbook: 100-Plus Fast a...</td>\n",
              "      <td>Steve Doocy</td>\n",
              "      <td>4.7</td>\n",
              "      <td>7923</td>\n",
              "      <td>20.98</td>\n",
              "    </tr>\n",
              "    <tr>\n",
              "      <th>1091</th>\n",
              "      <td>2020</td>\n",
              "      <td>98</td>\n",
              "      <td>Learn to Read: A Magical Sight Words and Phoni...</td>\n",
              "      <td>Modern Kid Press</td>\n",
              "      <td>4.7</td>\n",
              "      <td>9455</td>\n",
              "      <td>6.99</td>\n",
              "    </tr>\n",
              "    <tr>\n",
              "      <th>1092</th>\n",
              "      <td>2020</td>\n",
              "      <td>99</td>\n",
              "      <td>P is for Potty! (Sesame Street) (Lift-the-Flap)</td>\n",
              "      <td>Naomi Kleinberg</td>\n",
              "      <td>4.7</td>\n",
              "      <td>16340</td>\n",
              "      <td>5.68</td>\n",
              "    </tr>\n",
              "    <tr>\n",
              "      <th>1093</th>\n",
              "      <td>2020</td>\n",
              "      <td>100</td>\n",
              "      <td>Player's Handbook (Dungeons &amp; Dragons)</td>\n",
              "      <td>Wizards RPG Team</td>\n",
              "      <td>4.8</td>\n",
              "      <td>24240</td>\n",
              "      <td>17.98</td>\n",
              "    </tr>\n",
              "  </tbody>\n",
              "</table>\n",
              "<p>1084 rows × 7 columns</p>\n",
              "</div>"
            ],
            "text/plain": [
              "      Year  Rank  ... Num_Customers_Rated  Price\n",
              "10    2010    11  ...                 526  28.05\n",
              "11    2010    12  ...                3943  18.75\n",
              "12    2010    13  ...                1760   0.35\n",
              "13    2010    14  ...               30700  20.98\n",
              "14    2010    15  ...                2214  12.59\n",
              "...    ...   ...  ...                 ...    ...\n",
              "1089  2020    96  ...               13775  10.49\n",
              "1090  2020    97  ...                7923  20.98\n",
              "1091  2020    98  ...                9455   6.99\n",
              "1092  2020    99  ...               16340   5.68\n",
              "1093  2020   100  ...               24240  17.98\n",
              "\n",
              "[1084 rows x 7 columns]"
            ]
          },
          "metadata": {
            "tags": []
          },
          "execution_count": 193
        }
      ]
    },
    {
      "cell_type": "markdown",
      "metadata": {
        "id": "D3DoToDc1Vbx"
      },
      "source": [
        "Muestra desde la posición 11 hasta la última."
      ]
    },
    {
      "cell_type": "code",
      "metadata": {
        "id": "jXBSti7Z1XNl"
      },
      "source": [
        "import numpy as np"
      ],
      "execution_count": null,
      "outputs": []
    },
    {
      "cell_type": "code",
      "metadata": {
        "colab": {
          "base_uri": "https://localhost:8080/",
          "height": 609
        },
        "id": "tmjyiBqj1afb",
        "outputId": "43999d10-6a8d-4453-9c26-8cb4d7298f10"
      },
      "source": [
        "amazon.boxplot(column=['Rating'], figsize=(5,10))"
      ],
      "execution_count": null,
      "outputs": [
        {
          "output_type": "execute_result",
          "data": {
            "text/plain": [
              "<matplotlib.axes._subplots.AxesSubplot at 0x7fbfc6761c10>"
            ]
          },
          "metadata": {
            "tags": []
          },
          "execution_count": 195
        },
        {
          "output_type": "display_data",
          "data": {
            "image/png": "[encoded data removed]",
            "text/plain": [
              "<Figure size 360x720 with 1 Axes>"
            ]
          },
          "metadata": {
            "tags": [],
            "needs_background": "light"
          }
        }
      ]
    },
    {
      "cell_type": "code",
      "metadata": {
        "colab": {
          "base_uri": "https://localhost:8080/"
        },
        "id": "uWcO8org1dRD",
        "outputId": "0eae5e61-9784-4b4a-8eca-79a7181c1b39"
      },
      "source": [
        "np.unique(amazon.Rating, return_counts=True)"
      ],
      "execution_count": null,
      "outputs": [
        {
          "output_type": "execute_result",
          "data": {
            "text/plain": [
              "(array([3.3, 3.5, 3.7, 3.8, 3.9, 4. , 4.1, 4.2, 4.3, 4.4, 4.5, 4.6, 4.7,\n",
              "        4.8, 4.9]),\n",
              " array([  1,   1,   2,   2,   9,  18,  18,   5,  43,  76, 115, 192, 258,\n",
              "        241, 113]))"
            ]
          },
          "metadata": {
            "tags": []
          },
          "execution_count": 196
        }
      ]
    },
    {
      "cell_type": "code",
      "metadata": {
        "colab": {
          "base_uri": "https://localhost:8080/",
          "height": 424
        },
        "id": "Zz_zbQBK13-5",
        "outputId": "3eaf5e90-3bc5-4373-b322-26052bb3cb52"
      },
      "source": [
        "amazon"
      ],
      "execution_count": null,
      "outputs": [
        {
          "output_type": "execute_result",
          "data": {
            "text/html": [
              "<div>\n",
              "<style scoped>\n",
              "    .dataframe tbody tr th:only-of-type {\n",
              "        vertical-align: middle;\n",
              "    }\n",
              "\n",
              "    .dataframe tbody tr th {\n",
              "        vertical-align: top;\n",
              "    }\n",
              "\n",
              "    .dataframe thead th {\n",
              "        text-align: right;\n",
              "    }\n",
              "</style>\n",
              "<table border=\"1\" class=\"dataframe\">\n",
              "  <thead>\n",
              "    <tr style=\"text-align: right;\">\n",
              "      <th></th>\n",
              "      <th>Year</th>\n",
              "      <th>Rank</th>\n",
              "      <th>Book_Title</th>\n",
              "      <th>Author</th>\n",
              "      <th>Rating</th>\n",
              "      <th>Num_Customers_Rated</th>\n",
              "      <th>Price</th>\n",
              "    </tr>\n",
              "  </thead>\n",
              "  <tbody>\n",
              "    <tr>\n",
              "      <th>0</th>\n",
              "      <td>2010</td>\n",
              "      <td>1</td>\n",
              "      <td>The Girl Who Kicked the Hornet's Nest (Millenn...</td>\n",
              "      <td>Stieg Larsson</td>\n",
              "      <td>4.7</td>\n",
              "      <td>8475</td>\n",
              "      <td>17.24</td>\n",
              "    </tr>\n",
              "    <tr>\n",
              "      <th>1</th>\n",
              "      <td>2010</td>\n",
              "      <td>2</td>\n",
              "      <td>The Girl with the Dragon Tattoo (Millennium Se...</td>\n",
              "      <td>Stieg Larsson</td>\n",
              "      <td>4.4</td>\n",
              "      <td>11516</td>\n",
              "      <td>9.99</td>\n",
              "    </tr>\n",
              "    <tr>\n",
              "      <th>2</th>\n",
              "      <td>2010</td>\n",
              "      <td>3</td>\n",
              "      <td>Decision Points</td>\n",
              "      <td>George W. Bush</td>\n",
              "      <td>4.6</td>\n",
              "      <td>2201</td>\n",
              "      <td>17.80</td>\n",
              "    </tr>\n",
              "    <tr>\n",
              "      <th>3</th>\n",
              "      <td>2010</td>\n",
              "      <td>4</td>\n",
              "      <td>The Help</td>\n",
              "      <td>Kathryn Stockett</td>\n",
              "      <td>4.8</td>\n",
              "      <td>14772</td>\n",
              "      <td>14.97</td>\n",
              "    </tr>\n",
              "    <tr>\n",
              "      <th>4</th>\n",
              "      <td>2010</td>\n",
              "      <td>5</td>\n",
              "      <td>The Girl Who Played with Fire (Millennium Series)</td>\n",
              "      <td>Stieg Larsson</td>\n",
              "      <td>4.7</td>\n",
              "      <td>7949</td>\n",
              "      <td>0.02</td>\n",
              "    </tr>\n",
              "    <tr>\n",
              "      <th>...</th>\n",
              "      <td>...</td>\n",
              "      <td>...</td>\n",
              "      <td>...</td>\n",
              "      <td>...</td>\n",
              "      <td>...</td>\n",
              "      <td>...</td>\n",
              "      <td>...</td>\n",
              "    </tr>\n",
              "    <tr>\n",
              "      <th>1089</th>\n",
              "      <td>2020</td>\n",
              "      <td>96</td>\n",
              "      <td>Relationship Goals: How to Win at Dating, Marr...</td>\n",
              "      <td>Michael Todd</td>\n",
              "      <td>4.8</td>\n",
              "      <td>13775</td>\n",
              "      <td>10.49</td>\n",
              "    </tr>\n",
              "    <tr>\n",
              "      <th>1090</th>\n",
              "      <td>2020</td>\n",
              "      <td>97</td>\n",
              "      <td>The Happy in a Hurry Cookbook: 100-Plus Fast a...</td>\n",
              "      <td>Steve Doocy</td>\n",
              "      <td>4.7</td>\n",
              "      <td>7923</td>\n",
              "      <td>20.98</td>\n",
              "    </tr>\n",
              "    <tr>\n",
              "      <th>1091</th>\n",
              "      <td>2020</td>\n",
              "      <td>98</td>\n",
              "      <td>Learn to Read: A Magical Sight Words and Phoni...</td>\n",
              "      <td>Modern Kid Press</td>\n",
              "      <td>4.7</td>\n",
              "      <td>9455</td>\n",
              "      <td>6.99</td>\n",
              "    </tr>\n",
              "    <tr>\n",
              "      <th>1092</th>\n",
              "      <td>2020</td>\n",
              "      <td>99</td>\n",
              "      <td>P is for Potty! (Sesame Street) (Lift-the-Flap)</td>\n",
              "      <td>Naomi Kleinberg</td>\n",
              "      <td>4.7</td>\n",
              "      <td>16340</td>\n",
              "      <td>5.68</td>\n",
              "    </tr>\n",
              "    <tr>\n",
              "      <th>1093</th>\n",
              "      <td>2020</td>\n",
              "      <td>100</td>\n",
              "      <td>Player's Handbook (Dungeons &amp; Dragons)</td>\n",
              "      <td>Wizards RPG Team</td>\n",
              "      <td>4.8</td>\n",
              "      <td>24240</td>\n",
              "      <td>17.98</td>\n",
              "    </tr>\n",
              "  </tbody>\n",
              "</table>\n",
              "<p>1094 rows × 7 columns</p>\n",
              "</div>"
            ],
            "text/plain": [
              "      Year  Rank  ... Num_Customers_Rated  Price\n",
              "0     2010     1  ...                8475  17.24\n",
              "1     2010     2  ...               11516   9.99\n",
              "2     2010     3  ...                2201  17.80\n",
              "3     2010     4  ...               14772  14.97\n",
              "4     2010     5  ...                7949   0.02\n",
              "...    ...   ...  ...                 ...    ...\n",
              "1089  2020    96  ...               13775  10.49\n",
              "1090  2020    97  ...                7923  20.98\n",
              "1091  2020    98  ...                9455   6.99\n",
              "1092  2020    99  ...               16340   5.68\n",
              "1093  2020   100  ...               24240  17.98\n",
              "\n",
              "[1094 rows x 7 columns]"
            ]
          },
          "metadata": {
            "tags": []
          },
          "execution_count": 197
        }
      ]
    },
    {
      "cell_type": "code",
      "metadata": {
        "colab": {
          "base_uri": "https://localhost:8080/"
        },
        "id": "crLWYZwH16M8",
        "outputId": "a7069a63-52cf-4c7e-d20b-bf8e91d2e716"
      },
      "source": [
        "amazon.Rating"
      ],
      "execution_count": null,
      "outputs": [
        {
          "output_type": "execute_result",
          "data": {
            "text/plain": [
              "0       4.7\n",
              "1       4.4\n",
              "2       4.6\n",
              "3       4.8\n",
              "4       4.7\n",
              "       ... \n",
              "1089    4.8\n",
              "1090    4.7\n",
              "1091    4.7\n",
              "1092    4.7\n",
              "1093    4.8\n",
              "Name: Rating, Length: 1094, dtype: float64"
            ]
          },
          "metadata": {
            "tags": []
          },
          "execution_count": 198
        }
      ]
    },
    {
      "cell_type": "code",
      "metadata": {
        "id": "RBpNxhkU18Nk"
      },
      "source": [
        "X=amazon"
      ],
      "execution_count": null,
      "outputs": []
    },
    {
      "cell_type": "code",
      "metadata": {
        "id": "DcOPBX941-mt"
      },
      "source": [
        "y=amazon.Rating"
      ],
      "execution_count": null,
      "outputs": []
    },
    {
      "cell_type": "code",
      "metadata": {
        "colab": {
          "base_uri": "https://localhost:8080/",
          "height": 424
        },
        "id": "hMrd2HsH2AZ1",
        "outputId": "62a2a645-c3e2-4918-b14b-893914e2753c"
      },
      "source": [
        "X"
      ],
      "execution_count": null,
      "outputs": [
        {
          "output_type": "execute_result",
          "data": {
            "text/html": [
              "<div>\n",
              "<style scoped>\n",
              "    .dataframe tbody tr th:only-of-type {\n",
              "        vertical-align: middle;\n",
              "    }\n",
              "\n",
              "    .dataframe tbody tr th {\n",
              "        vertical-align: top;\n",
              "    }\n",
              "\n",
              "    .dataframe thead th {\n",
              "        text-align: right;\n",
              "    }\n",
              "</style>\n",
              "<table border=\"1\" class=\"dataframe\">\n",
              "  <thead>\n",
              "    <tr style=\"text-align: right;\">\n",
              "      <th></th>\n",
              "      <th>Year</th>\n",
              "      <th>Rank</th>\n",
              "      <th>Book_Title</th>\n",
              "      <th>Author</th>\n",
              "      <th>Rating</th>\n",
              "      <th>Num_Customers_Rated</th>\n",
              "      <th>Price</th>\n",
              "    </tr>\n",
              "  </thead>\n",
              "  <tbody>\n",
              "    <tr>\n",
              "      <th>0</th>\n",
              "      <td>2010</td>\n",
              "      <td>1</td>\n",
              "      <td>The Girl Who Kicked the Hornet's Nest (Millenn...</td>\n",
              "      <td>Stieg Larsson</td>\n",
              "      <td>4.7</td>\n",
              "      <td>8475</td>\n",
              "      <td>17.24</td>\n",
              "    </tr>\n",
              "    <tr>\n",
              "      <th>1</th>\n",
              "      <td>2010</td>\n",
              "      <td>2</td>\n",
              "      <td>The Girl with the Dragon Tattoo (Millennium Se...</td>\n",
              "      <td>Stieg Larsson</td>\n",
              "      <td>4.4</td>\n",
              "      <td>11516</td>\n",
              "      <td>9.99</td>\n",
              "    </tr>\n",
              "    <tr>\n",
              "      <th>2</th>\n",
              "      <td>2010</td>\n",
              "      <td>3</td>\n",
              "      <td>Decision Points</td>\n",
              "      <td>George W. Bush</td>\n",
              "      <td>4.6</td>\n",
              "      <td>2201</td>\n",
              "      <td>17.80</td>\n",
              "    </tr>\n",
              "    <tr>\n",
              "      <th>3</th>\n",
              "      <td>2010</td>\n",
              "      <td>4</td>\n",
              "      <td>The Help</td>\n",
              "      <td>Kathryn Stockett</td>\n",
              "      <td>4.8</td>\n",
              "      <td>14772</td>\n",
              "      <td>14.97</td>\n",
              "    </tr>\n",
              "    <tr>\n",
              "      <th>4</th>\n",
              "      <td>2010</td>\n",
              "      <td>5</td>\n",
              "      <td>The Girl Who Played with Fire (Millennium Series)</td>\n",
              "      <td>Stieg Larsson</td>\n",
              "      <td>4.7</td>\n",
              "      <td>7949</td>\n",
              "      <td>0.02</td>\n",
              "    </tr>\n",
              "    <tr>\n",
              "      <th>...</th>\n",
              "      <td>...</td>\n",
              "      <td>...</td>\n",
              "      <td>...</td>\n",
              "      <td>...</td>\n",
              "      <td>...</td>\n",
              "      <td>...</td>\n",
              "      <td>...</td>\n",
              "    </tr>\n",
              "    <tr>\n",
              "      <th>1089</th>\n",
              "      <td>2020</td>\n",
              "      <td>96</td>\n",
              "      <td>Relationship Goals: How to Win at Dating, Marr...</td>\n",
              "      <td>Michael Todd</td>\n",
              "      <td>4.8</td>\n",
              "      <td>13775</td>\n",
              "      <td>10.49</td>\n",
              "    </tr>\n",
              "    <tr>\n",
              "      <th>1090</th>\n",
              "      <td>2020</td>\n",
              "      <td>97</td>\n",
              "      <td>The Happy in a Hurry Cookbook: 100-Plus Fast a...</td>\n",
              "      <td>Steve Doocy</td>\n",
              "      <td>4.7</td>\n",
              "      <td>7923</td>\n",
              "      <td>20.98</td>\n",
              "    </tr>\n",
              "    <tr>\n",
              "      <th>1091</th>\n",
              "      <td>2020</td>\n",
              "      <td>98</td>\n",
              "      <td>Learn to Read: A Magical Sight Words and Phoni...</td>\n",
              "      <td>Modern Kid Press</td>\n",
              "      <td>4.7</td>\n",
              "      <td>9455</td>\n",
              "      <td>6.99</td>\n",
              "    </tr>\n",
              "    <tr>\n",
              "      <th>1092</th>\n",
              "      <td>2020</td>\n",
              "      <td>99</td>\n",
              "      <td>P is for Potty! (Sesame Street) (Lift-the-Flap)</td>\n",
              "      <td>Naomi Kleinberg</td>\n",
              "      <td>4.7</td>\n",
              "      <td>16340</td>\n",
              "      <td>5.68</td>\n",
              "    </tr>\n",
              "    <tr>\n",
              "      <th>1093</th>\n",
              "      <td>2020</td>\n",
              "      <td>100</td>\n",
              "      <td>Player's Handbook (Dungeons &amp; Dragons)</td>\n",
              "      <td>Wizards RPG Team</td>\n",
              "      <td>4.8</td>\n",
              "      <td>24240</td>\n",
              "      <td>17.98</td>\n",
              "    </tr>\n",
              "  </tbody>\n",
              "</table>\n",
              "<p>1094 rows × 7 columns</p>\n",
              "</div>"
            ],
            "text/plain": [
              "      Year  Rank  ... Num_Customers_Rated  Price\n",
              "0     2010     1  ...                8475  17.24\n",
              "1     2010     2  ...               11516   9.99\n",
              "2     2010     3  ...                2201  17.80\n",
              "3     2010     4  ...               14772  14.97\n",
              "4     2010     5  ...                7949   0.02\n",
              "...    ...   ...  ...                 ...    ...\n",
              "1089  2020    96  ...               13775  10.49\n",
              "1090  2020    97  ...                7923  20.98\n",
              "1091  2020    98  ...                9455   6.99\n",
              "1092  2020    99  ...               16340   5.68\n",
              "1093  2020   100  ...               24240  17.98\n",
              "\n",
              "[1094 rows x 7 columns]"
            ]
          },
          "metadata": {
            "tags": []
          },
          "execution_count": 202
        }
      ]
    },
    {
      "cell_type": "code",
      "metadata": {
        "colab": {
          "base_uri": "https://localhost:8080/"
        },
        "id": "Wqg33eJp2CvV",
        "outputId": "00bd171d-681b-40a1-cfcd-b72bf1dda375"
      },
      "source": [
        "y"
      ],
      "execution_count": null,
      "outputs": [
        {
          "output_type": "execute_result",
          "data": {
            "text/plain": [
              "0       4.7\n",
              "1       4.4\n",
              "2       4.6\n",
              "3       4.8\n",
              "4       4.7\n",
              "       ... \n",
              "1089    4.8\n",
              "1090    4.7\n",
              "1091    4.7\n",
              "1092    4.7\n",
              "1093    4.8\n",
              "Name: Rating, Length: 1094, dtype: float64"
            ]
          },
          "metadata": {
            "tags": []
          },
          "execution_count": 203
        }
      ]
    },
    {
      "cell_type": "code",
      "metadata": {
        "id": "UslldDZ09kP_"
      },
      "source": [
        "X = X.drop(columns=['Book_Title'])"
      ],
      "execution_count": null,
      "outputs": []
    },
    {
      "cell_type": "code",
      "metadata": {
        "id": "9VxAV8h99o-H"
      },
      "source": [
        "X = X.drop(columns=['Author'])"
      ],
      "execution_count": null,
      "outputs": []
    },
    {
      "cell_type": "code",
      "metadata": {
        "colab": {
          "base_uri": "https://localhost:8080/",
          "height": 424
        },
        "id": "Sr2WsSQD2Lgm",
        "outputId": "2520efe0-f291-4ae6-a707-7d9009ece069"
      },
      "source": [
        "X"
      ],
      "execution_count": null,
      "outputs": [
        {
          "output_type": "execute_result",
          "data": {
            "text/html": [
              "<div>\n",
              "<style scoped>\n",
              "    .dataframe tbody tr th:only-of-type {\n",
              "        vertical-align: middle;\n",
              "    }\n",
              "\n",
              "    .dataframe tbody tr th {\n",
              "        vertical-align: top;\n",
              "    }\n",
              "\n",
              "    .dataframe thead th {\n",
              "        text-align: right;\n",
              "    }\n",
              "</style>\n",
              "<table border=\"1\" class=\"dataframe\">\n",
              "  <thead>\n",
              "    <tr style=\"text-align: right;\">\n",
              "      <th></th>\n",
              "      <th>Year</th>\n",
              "      <th>Rank</th>\n",
              "      <th>Rating</th>\n",
              "      <th>Num_Customers_Rated</th>\n",
              "      <th>Price</th>\n",
              "    </tr>\n",
              "  </thead>\n",
              "  <tbody>\n",
              "    <tr>\n",
              "      <th>0</th>\n",
              "      <td>2010</td>\n",
              "      <td>1</td>\n",
              "      <td>4.7</td>\n",
              "      <td>8475</td>\n",
              "      <td>17.24</td>\n",
              "    </tr>\n",
              "    <tr>\n",
              "      <th>1</th>\n",
              "      <td>2010</td>\n",
              "      <td>2</td>\n",
              "      <td>4.4</td>\n",
              "      <td>11516</td>\n",
              "      <td>9.99</td>\n",
              "    </tr>\n",
              "    <tr>\n",
              "      <th>2</th>\n",
              "      <td>2010</td>\n",
              "      <td>3</td>\n",
              "      <td>4.6</td>\n",
              "      <td>2201</td>\n",
              "      <td>17.80</td>\n",
              "    </tr>\n",
              "    <tr>\n",
              "      <th>3</th>\n",
              "      <td>2010</td>\n",
              "      <td>4</td>\n",
              "      <td>4.8</td>\n",
              "      <td>14772</td>\n",
              "      <td>14.97</td>\n",
              "    </tr>\n",
              "    <tr>\n",
              "      <th>4</th>\n",
              "      <td>2010</td>\n",
              "      <td>5</td>\n",
              "      <td>4.7</td>\n",
              "      <td>7949</td>\n",
              "      <td>0.02</td>\n",
              "    </tr>\n",
              "    <tr>\n",
              "      <th>...</th>\n",
              "      <td>...</td>\n",
              "      <td>...</td>\n",
              "      <td>...</td>\n",
              "      <td>...</td>\n",
              "      <td>...</td>\n",
              "    </tr>\n",
              "    <tr>\n",
              "      <th>1089</th>\n",
              "      <td>2020</td>\n",
              "      <td>96</td>\n",
              "      <td>4.8</td>\n",
              "      <td>13775</td>\n",
              "      <td>10.49</td>\n",
              "    </tr>\n",
              "    <tr>\n",
              "      <th>1090</th>\n",
              "      <td>2020</td>\n",
              "      <td>97</td>\n",
              "      <td>4.7</td>\n",
              "      <td>7923</td>\n",
              "      <td>20.98</td>\n",
              "    </tr>\n",
              "    <tr>\n",
              "      <th>1091</th>\n",
              "      <td>2020</td>\n",
              "      <td>98</td>\n",
              "      <td>4.7</td>\n",
              "      <td>9455</td>\n",
              "      <td>6.99</td>\n",
              "    </tr>\n",
              "    <tr>\n",
              "      <th>1092</th>\n",
              "      <td>2020</td>\n",
              "      <td>99</td>\n",
              "      <td>4.7</td>\n",
              "      <td>16340</td>\n",
              "      <td>5.68</td>\n",
              "    </tr>\n",
              "    <tr>\n",
              "      <th>1093</th>\n",
              "      <td>2020</td>\n",
              "      <td>100</td>\n",
              "      <td>4.8</td>\n",
              "      <td>24240</td>\n",
              "      <td>17.98</td>\n",
              "    </tr>\n",
              "  </tbody>\n",
              "</table>\n",
              "<p>1094 rows × 5 columns</p>\n",
              "</div>"
            ],
            "text/plain": [
              "      Year  Rank  Rating  Num_Customers_Rated  Price\n",
              "0     2010     1     4.7                 8475  17.24\n",
              "1     2010     2     4.4                11516   9.99\n",
              "2     2010     3     4.6                 2201  17.80\n",
              "3     2010     4     4.8                14772  14.97\n",
              "4     2010     5     4.7                 7949   0.02\n",
              "...    ...   ...     ...                  ...    ...\n",
              "1089  2020    96     4.8                13775  10.49\n",
              "1090  2020    97     4.7                 7923  20.98\n",
              "1091  2020    98     4.7                 9455   6.99\n",
              "1092  2020    99     4.7                16340   5.68\n",
              "1093  2020   100     4.8                24240  17.98\n",
              "\n",
              "[1094 rows x 5 columns]"
            ]
          },
          "metadata": {
            "tags": []
          },
          "execution_count": 206
        }
      ]
    },
    {
      "cell_type": "code",
      "metadata": {
        "colab": {
          "base_uri": "https://localhost:8080/"
        },
        "id": "2PwgJIHv8WZN",
        "outputId": "5ee160f9-8b39-4886-981f-f6357a1f49e9"
      },
      "source": [
        "y"
      ],
      "execution_count": null,
      "outputs": [
        {
          "output_type": "execute_result",
          "data": {
            "text/plain": [
              "0       4.7\n",
              "1       4.4\n",
              "2       4.6\n",
              "3       4.8\n",
              "4       4.7\n",
              "       ... \n",
              "1089    4.8\n",
              "1090    4.7\n",
              "1091    4.7\n",
              "1092    4.7\n",
              "1093    4.8\n",
              "Name: Rating, Length: 1094, dtype: float64"
            ]
          },
          "metadata": {
            "tags": []
          },
          "execution_count": 207
        }
      ]
    },
    {
      "cell_type": "code",
      "metadata": {
        "colab": {
          "base_uri": "https://localhost:8080/",
          "height": 206
        },
        "id": "DaYgaWG18mIf",
        "outputId": "14728010-3b61-4f34-989c-6796954bf4e6"
      },
      "source": [
        "X.corr()"
      ],
      "execution_count": null,
      "outputs": [
        {
          "output_type": "execute_result",
          "data": {
            "text/html": [
              "<div>\n",
              "<style scoped>\n",
              "    .dataframe tbody tr th:only-of-type {\n",
              "        vertical-align: middle;\n",
              "    }\n",
              "\n",
              "    .dataframe tbody tr th {\n",
              "        vertical-align: top;\n",
              "    }\n",
              "\n",
              "    .dataframe thead th {\n",
              "        text-align: right;\n",
              "    }\n",
              "</style>\n",
              "<table border=\"1\" class=\"dataframe\">\n",
              "  <thead>\n",
              "    <tr style=\"text-align: right;\">\n",
              "      <th></th>\n",
              "      <th>Year</th>\n",
              "      <th>Rank</th>\n",
              "      <th>Rating</th>\n",
              "      <th>Num_Customers_Rated</th>\n",
              "      <th>Price</th>\n",
              "    </tr>\n",
              "  </thead>\n",
              "  <tbody>\n",
              "    <tr>\n",
              "      <th>Year</th>\n",
              "      <td>1.000000</td>\n",
              "      <td>0.002647</td>\n",
              "      <td>0.298238</td>\n",
              "      <td>0.323219</td>\n",
              "      <td>-0.174865</td>\n",
              "    </tr>\n",
              "    <tr>\n",
              "      <th>Rank</th>\n",
              "      <td>0.002647</td>\n",
              "      <td>1.000000</td>\n",
              "      <td>-0.003316</td>\n",
              "      <td>-0.233854</td>\n",
              "      <td>-0.003929</td>\n",
              "    </tr>\n",
              "    <tr>\n",
              "      <th>Rating</th>\n",
              "      <td>0.298238</td>\n",
              "      <td>-0.003316</td>\n",
              "      <td>1.000000</td>\n",
              "      <td>0.135881</td>\n",
              "      <td>-0.177250</td>\n",
              "    </tr>\n",
              "    <tr>\n",
              "      <th>Num_Customers_Rated</th>\n",
              "      <td>0.323219</td>\n",
              "      <td>-0.233854</td>\n",
              "      <td>0.135881</td>\n",
              "      <td>1.000000</td>\n",
              "      <td>-0.104449</td>\n",
              "    </tr>\n",
              "    <tr>\n",
              "      <th>Price</th>\n",
              "      <td>-0.174865</td>\n",
              "      <td>-0.003929</td>\n",
              "      <td>-0.177250</td>\n",
              "      <td>-0.104449</td>\n",
              "      <td>1.000000</td>\n",
              "    </tr>\n",
              "  </tbody>\n",
              "</table>\n",
              "</div>"
            ],
            "text/plain": [
              "                         Year      Rank  ...  Num_Customers_Rated     Price\n",
              "Year                 1.000000  0.002647  ...             0.323219 -0.174865\n",
              "Rank                 0.002647  1.000000  ...            -0.233854 -0.003929\n",
              "Rating               0.298238 -0.003316  ...             0.135881 -0.177250\n",
              "Num_Customers_Rated  0.323219 -0.233854  ...             1.000000 -0.104449\n",
              "Price               -0.174865 -0.003929  ...            -0.104449  1.000000\n",
              "\n",
              "[5 rows x 5 columns]"
            ]
          },
          "metadata": {
            "tags": []
          },
          "execution_count": 208
        }
      ]
    },
    {
      "cell_type": "code",
      "metadata": {
        "colab": {
          "base_uri": "https://localhost:8080/",
          "height": 596
        },
        "id": "2j_Fah5A85c9",
        "outputId": "c8892ab7-2315-45b4-b31a-1bb2c8a22afe"
      },
      "source": [
        "plt.figure(figsize=(12,10))\n",
        "sns.heatmap(X.corr() ,annot = True, fmt='.2f')\n",
        "plt.show()"
      ],
      "execution_count": null,
      "outputs": [
        {
          "output_type": "display_data",
          "data": {
            "image/png": "[encoded data removed]",
            "text/plain": [
              "<Figure size 864x720 with 2 Axes>"
            ]
          },
          "metadata": {
            "tags": [],
            "needs_background": "light"
          }
        }
      ]
    },
    {
      "cell_type": "code",
      "metadata": {
        "colab": {
          "base_uri": "https://localhost:8080/",
          "height": 424
        },
        "id": "D3hLieE_90Wj",
        "outputId": "b57ab593-0532-4cc9-f6f8-1d247e3bf658"
      },
      "source": [
        "X"
      ],
      "execution_count": null,
      "outputs": [
        {
          "output_type": "execute_result",
          "data": {
            "text/html": [
              "<div>\n",
              "<style scoped>\n",
              "    .dataframe tbody tr th:only-of-type {\n",
              "        vertical-align: middle;\n",
              "    }\n",
              "\n",
              "    .dataframe tbody tr th {\n",
              "        vertical-align: top;\n",
              "    }\n",
              "\n",
              "    .dataframe thead th {\n",
              "        text-align: right;\n",
              "    }\n",
              "</style>\n",
              "<table border=\"1\" class=\"dataframe\">\n",
              "  <thead>\n",
              "    <tr style=\"text-align: right;\">\n",
              "      <th></th>\n",
              "      <th>Year</th>\n",
              "      <th>Rank</th>\n",
              "      <th>Rating</th>\n",
              "      <th>Num_Customers_Rated</th>\n",
              "      <th>Price</th>\n",
              "    </tr>\n",
              "  </thead>\n",
              "  <tbody>\n",
              "    <tr>\n",
              "      <th>0</th>\n",
              "      <td>2010</td>\n",
              "      <td>1</td>\n",
              "      <td>4.7</td>\n",
              "      <td>8475</td>\n",
              "      <td>17.24</td>\n",
              "    </tr>\n",
              "    <tr>\n",
              "      <th>1</th>\n",
              "      <td>2010</td>\n",
              "      <td>2</td>\n",
              "      <td>4.4</td>\n",
              "      <td>11516</td>\n",
              "      <td>9.99</td>\n",
              "    </tr>\n",
              "    <tr>\n",
              "      <th>2</th>\n",
              "      <td>2010</td>\n",
              "      <td>3</td>\n",
              "      <td>4.6</td>\n",
              "      <td>2201</td>\n",
              "      <td>17.80</td>\n",
              "    </tr>\n",
              "    <tr>\n",
              "      <th>3</th>\n",
              "      <td>2010</td>\n",
              "      <td>4</td>\n",
              "      <td>4.8</td>\n",
              "      <td>14772</td>\n",
              "      <td>14.97</td>\n",
              "    </tr>\n",
              "    <tr>\n",
              "      <th>4</th>\n",
              "      <td>2010</td>\n",
              "      <td>5</td>\n",
              "      <td>4.7</td>\n",
              "      <td>7949</td>\n",
              "      <td>0.02</td>\n",
              "    </tr>\n",
              "    <tr>\n",
              "      <th>...</th>\n",
              "      <td>...</td>\n",
              "      <td>...</td>\n",
              "      <td>...</td>\n",
              "      <td>...</td>\n",
              "      <td>...</td>\n",
              "    </tr>\n",
              "    <tr>\n",
              "      <th>1089</th>\n",
              "      <td>2020</td>\n",
              "      <td>96</td>\n",
              "      <td>4.8</td>\n",
              "      <td>13775</td>\n",
              "      <td>10.49</td>\n",
              "    </tr>\n",
              "    <tr>\n",
              "      <th>1090</th>\n",
              "      <td>2020</td>\n",
              "      <td>97</td>\n",
              "      <td>4.7</td>\n",
              "      <td>7923</td>\n",
              "      <td>20.98</td>\n",
              "    </tr>\n",
              "    <tr>\n",
              "      <th>1091</th>\n",
              "      <td>2020</td>\n",
              "      <td>98</td>\n",
              "      <td>4.7</td>\n",
              "      <td>9455</td>\n",
              "      <td>6.99</td>\n",
              "    </tr>\n",
              "    <tr>\n",
              "      <th>1092</th>\n",
              "      <td>2020</td>\n",
              "      <td>99</td>\n",
              "      <td>4.7</td>\n",
              "      <td>16340</td>\n",
              "      <td>5.68</td>\n",
              "    </tr>\n",
              "    <tr>\n",
              "      <th>1093</th>\n",
              "      <td>2020</td>\n",
              "      <td>100</td>\n",
              "      <td>4.8</td>\n",
              "      <td>24240</td>\n",
              "      <td>17.98</td>\n",
              "    </tr>\n",
              "  </tbody>\n",
              "</table>\n",
              "<p>1094 rows × 5 columns</p>\n",
              "</div>"
            ],
            "text/plain": [
              "      Year  Rank  Rating  Num_Customers_Rated  Price\n",
              "0     2010     1     4.7                 8475  17.24\n",
              "1     2010     2     4.4                11516   9.99\n",
              "2     2010     3     4.6                 2201  17.80\n",
              "3     2010     4     4.8                14772  14.97\n",
              "4     2010     5     4.7                 7949   0.02\n",
              "...    ...   ...     ...                  ...    ...\n",
              "1089  2020    96     4.8                13775  10.49\n",
              "1090  2020    97     4.7                 7923  20.98\n",
              "1091  2020    98     4.7                 9455   6.99\n",
              "1092  2020    99     4.7                16340   5.68\n",
              "1093  2020   100     4.8                24240  17.98\n",
              "\n",
              "[1094 rows x 5 columns]"
            ]
          },
          "metadata": {
            "tags": []
          },
          "execution_count": 210
        }
      ]
    },
    {
      "cell_type": "code",
      "metadata": {
        "colab": {
          "base_uri": "https://localhost:8080/"
        },
        "id": "AX8S4Jlw91cg",
        "outputId": "c1e938e5-e156-4123-d0d1-7364ec8221bc"
      },
      "source": [
        "y"
      ],
      "execution_count": null,
      "outputs": [
        {
          "output_type": "execute_result",
          "data": {
            "text/plain": [
              "0       4.7\n",
              "1       4.4\n",
              "2       4.6\n",
              "3       4.8\n",
              "4       4.7\n",
              "       ... \n",
              "1089    4.8\n",
              "1090    4.7\n",
              "1091    4.7\n",
              "1092    4.7\n",
              "1093    4.8\n",
              "Name: Rating, Length: 1094, dtype: float64"
            ]
          },
          "metadata": {
            "tags": []
          },
          "execution_count": 212
        }
      ]
    },
    {
      "cell_type": "code",
      "metadata": {
        "id": "_SdOsSMB998w"
      },
      "source": [
        "X = X.drop(columns=['Rating'])"
      ],
      "execution_count": null,
      "outputs": []
    },
    {
      "cell_type": "markdown",
      "metadata": {
        "id": "YpW6HqcU-Acr"
      },
      "source": [
        "Sacamos los datos de la variable \"y\" que corresponde a nuestro Target Rating"
      ]
    },
    {
      "cell_type": "code",
      "metadata": {
        "colab": {
          "base_uri": "https://localhost:8080/",
          "height": 424
        },
        "id": "pm1wlfWF-BuB",
        "outputId": "9a30ca4e-3058-4299-90b8-7f4fd3023b3b"
      },
      "source": [
        "X"
      ],
      "execution_count": null,
      "outputs": [
        {
          "output_type": "execute_result",
          "data": {
            "text/html": [
              "<div>\n",
              "<style scoped>\n",
              "    .dataframe tbody tr th:only-of-type {\n",
              "        vertical-align: middle;\n",
              "    }\n",
              "\n",
              "    .dataframe tbody tr th {\n",
              "        vertical-align: top;\n",
              "    }\n",
              "\n",
              "    .dataframe thead th {\n",
              "        text-align: right;\n",
              "    }\n",
              "</style>\n",
              "<table border=\"1\" class=\"dataframe\">\n",
              "  <thead>\n",
              "    <tr style=\"text-align: right;\">\n",
              "      <th></th>\n",
              "      <th>Year</th>\n",
              "      <th>Rank</th>\n",
              "      <th>Num_Customers_Rated</th>\n",
              "      <th>Price</th>\n",
              "    </tr>\n",
              "  </thead>\n",
              "  <tbody>\n",
              "    <tr>\n",
              "      <th>0</th>\n",
              "      <td>2010</td>\n",
              "      <td>1</td>\n",
              "      <td>8475</td>\n",
              "      <td>17.24</td>\n",
              "    </tr>\n",
              "    <tr>\n",
              "      <th>1</th>\n",
              "      <td>2010</td>\n",
              "      <td>2</td>\n",
              "      <td>11516</td>\n",
              "      <td>9.99</td>\n",
              "    </tr>\n",
              "    <tr>\n",
              "      <th>2</th>\n",
              "      <td>2010</td>\n",
              "      <td>3</td>\n",
              "      <td>2201</td>\n",
              "      <td>17.80</td>\n",
              "    </tr>\n",
              "    <tr>\n",
              "      <th>3</th>\n",
              "      <td>2010</td>\n",
              "      <td>4</td>\n",
              "      <td>14772</td>\n",
              "      <td>14.97</td>\n",
              "    </tr>\n",
              "    <tr>\n",
              "      <th>4</th>\n",
              "      <td>2010</td>\n",
              "      <td>5</td>\n",
              "      <td>7949</td>\n",
              "      <td>0.02</td>\n",
              "    </tr>\n",
              "    <tr>\n",
              "      <th>...</th>\n",
              "      <td>...</td>\n",
              "      <td>...</td>\n",
              "      <td>...</td>\n",
              "      <td>...</td>\n",
              "    </tr>\n",
              "    <tr>\n",
              "      <th>1089</th>\n",
              "      <td>2020</td>\n",
              "      <td>96</td>\n",
              "      <td>13775</td>\n",
              "      <td>10.49</td>\n",
              "    </tr>\n",
              "    <tr>\n",
              "      <th>1090</th>\n",
              "      <td>2020</td>\n",
              "      <td>97</td>\n",
              "      <td>7923</td>\n",
              "      <td>20.98</td>\n",
              "    </tr>\n",
              "    <tr>\n",
              "      <th>1091</th>\n",
              "      <td>2020</td>\n",
              "      <td>98</td>\n",
              "      <td>9455</td>\n",
              "      <td>6.99</td>\n",
              "    </tr>\n",
              "    <tr>\n",
              "      <th>1092</th>\n",
              "      <td>2020</td>\n",
              "      <td>99</td>\n",
              "      <td>16340</td>\n",
              "      <td>5.68</td>\n",
              "    </tr>\n",
              "    <tr>\n",
              "      <th>1093</th>\n",
              "      <td>2020</td>\n",
              "      <td>100</td>\n",
              "      <td>24240</td>\n",
              "      <td>17.98</td>\n",
              "    </tr>\n",
              "  </tbody>\n",
              "</table>\n",
              "<p>1094 rows × 4 columns</p>\n",
              "</div>"
            ],
            "text/plain": [
              "      Year  Rank  Num_Customers_Rated  Price\n",
              "0     2010     1                 8475  17.24\n",
              "1     2010     2                11516   9.99\n",
              "2     2010     3                 2201  17.80\n",
              "3     2010     4                14772  14.97\n",
              "4     2010     5                 7949   0.02\n",
              "...    ...   ...                  ...    ...\n",
              "1089  2020    96                13775  10.49\n",
              "1090  2020    97                 7923  20.98\n",
              "1091  2020    98                 9455   6.99\n",
              "1092  2020    99                16340   5.68\n",
              "1093  2020   100                24240  17.98\n",
              "\n",
              "[1094 rows x 4 columns]"
            ]
          },
          "metadata": {
            "tags": []
          },
          "execution_count": 214
        }
      ]
    },
    {
      "cell_type": "markdown",
      "metadata": {
        "id": "_UytBHaD-Fu3"
      },
      "source": [
        "Comprobamos la no se encuentre en la matriz"
      ]
    },
    {
      "cell_type": "code",
      "metadata": {
        "id": "XGCXPnP4X2ax"
      },
      "source": [
        "from sklearn.model_selection import train_test_split"
      ],
      "execution_count": null,
      "outputs": []
    },
    {
      "cell_type": "code",
      "metadata": {
        "id": "6HKnBGxQX6Ko"
      },
      "source": [
        "X_train, X_test, y_train, y_test = train_test_split(X, y, test_size=0.2, random_state=42)"
      ],
      "execution_count": null,
      "outputs": []
    },
    {
      "cell_type": "code",
      "metadata": {
        "colab": {
          "base_uri": "https://localhost:8080/",
          "height": 300
        },
        "id": "IAhKuzuRX8Jn",
        "outputId": "aee95743-1097-4281-81c9-e27fc3d1d034"
      },
      "source": [
        "X.describe()"
      ],
      "execution_count": null,
      "outputs": [
        {
          "output_type": "execute_result",
          "data": {
            "text/html": [
              "<div>\n",
              "<style scoped>\n",
              "    .dataframe tbody tr th:only-of-type {\n",
              "        vertical-align: middle;\n",
              "    }\n",
              "\n",
              "    .dataframe tbody tr th {\n",
              "        vertical-align: top;\n",
              "    }\n",
              "\n",
              "    .dataframe thead th {\n",
              "        text-align: right;\n",
              "    }\n",
              "</style>\n",
              "<table border=\"1\" class=\"dataframe\">\n",
              "  <thead>\n",
              "    <tr style=\"text-align: right;\">\n",
              "      <th></th>\n",
              "      <th>Year</th>\n",
              "      <th>Rank</th>\n",
              "      <th>Num_Customers_Rated</th>\n",
              "      <th>Price</th>\n",
              "    </tr>\n",
              "  </thead>\n",
              "  <tbody>\n",
              "    <tr>\n",
              "      <th>count</th>\n",
              "      <td>1094.000000</td>\n",
              "      <td>1094.000000</td>\n",
              "      <td>1094.000000</td>\n",
              "      <td>1094.000000</td>\n",
              "    </tr>\n",
              "    <tr>\n",
              "      <th>mean</th>\n",
              "      <td>2015.001828</td>\n",
              "      <td>50.379342</td>\n",
              "      <td>14013.101463</td>\n",
              "      <td>10.850951</td>\n",
              "    </tr>\n",
              "    <tr>\n",
              "      <th>std</th>\n",
              "      <td>3.167769</td>\n",
              "      <td>28.831618</td>\n",
              "      <td>14303.567366</td>\n",
              "      <td>11.865798</td>\n",
              "    </tr>\n",
              "    <tr>\n",
              "      <th>min</th>\n",
              "      <td>2010.000000</td>\n",
              "      <td>1.000000</td>\n",
              "      <td>4.000000</td>\n",
              "      <td>0.010000</td>\n",
              "    </tr>\n",
              "    <tr>\n",
              "      <th>25%</th>\n",
              "      <td>2012.000000</td>\n",
              "      <td>25.250000</td>\n",
              "      <td>4489.500000</td>\n",
              "      <td>2.750000</td>\n",
              "    </tr>\n",
              "    <tr>\n",
              "      <th>50%</th>\n",
              "      <td>2015.000000</td>\n",
              "      <td>50.000000</td>\n",
              "      <td>10378.000000</td>\n",
              "      <td>8.980000</td>\n",
              "    </tr>\n",
              "    <tr>\n",
              "      <th>75%</th>\n",
              "      <td>2018.000000</td>\n",
              "      <td>75.000000</td>\n",
              "      <td>18024.750000</td>\n",
              "      <td>15.800000</td>\n",
              "    </tr>\n",
              "    <tr>\n",
              "      <th>max</th>\n",
              "      <td>2020.000000</td>\n",
              "      <td>100.000000</td>\n",
              "      <td>126619.000000</td>\n",
              "      <td>152.000000</td>\n",
              "    </tr>\n",
              "  </tbody>\n",
              "</table>\n",
              "</div>"
            ],
            "text/plain": [
              "              Year         Rank  Num_Customers_Rated        Price\n",
              "count  1094.000000  1094.000000          1094.000000  1094.000000\n",
              "mean   2015.001828    50.379342         14013.101463    10.850951\n",
              "std       3.167769    28.831618         14303.567366    11.865798\n",
              "min    2010.000000     1.000000             4.000000     0.010000\n",
              "25%    2012.000000    25.250000          4489.500000     2.750000\n",
              "50%    2015.000000    50.000000         10378.000000     8.980000\n",
              "75%    2018.000000    75.000000         18024.750000    15.800000\n",
              "max    2020.000000   100.000000        126619.000000   152.000000"
            ]
          },
          "metadata": {
            "tags": []
          },
          "execution_count": 217
        }
      ]
    },
    {
      "cell_type": "code",
      "metadata": {
        "id": "P1QyzU1SYgj0"
      },
      "source": [
        "from sklearn.preprocessing import StandardScaler"
      ],
      "execution_count": null,
      "outputs": []
    },
    {
      "cell_type": "code",
      "metadata": {
        "id": "ZHjaXjhZYiic"
      },
      "source": [
        "sc = StandardScaler()\n",
        "X_train = sc.fit_transform(X_train)\n",
        "X_test = sc.transform(X_test)"
      ],
      "execution_count": null,
      "outputs": []
    },
    {
      "cell_type": "markdown",
      "metadata": {
        "id": "q3nkue2UpsAd"
      },
      "source": [
        "Internamente toma el valor le resta la media y lo divide entre la varianza."
      ]
    },
    {
      "cell_type": "markdown",
      "metadata": {
        "id": "rgteq98OhMEu"
      },
      "source": [
        "Dado que existen valores con escalas muy distintas los transformamos o bien llevamos a escalas mas parejas."
      ]
    },
    {
      "cell_type": "code",
      "metadata": {
        "id": "vzWMJurBd7qn"
      },
      "source": [
        "from keras.layers import Dense"
      ],
      "execution_count": null,
      "outputs": []
    },
    {
      "cell_type": "markdown",
      "metadata": {
        "id": "0NCRGDd0qL3w"
      },
      "source": [
        "Creando el modelo a través de una función secuencial. Debido a que los elementos van a pasar secuencialmente y el modelo se construye con capa.\n",
        "A través de la red neuronal podremos determinar o predecir a través de los datos del dataset el ranking de un Libro."
      ]
    },
    {
      "cell_type": "code",
      "metadata": {
        "id": "F8dHcEhLd9P0"
      },
      "source": [
        "model = keras.Sequential()\n",
        "model.add(Dense(64, activation='relu', input_shape=[8]))\n",
        "model.add(Dense(64, activation='relu'))\n",
        "model.add(Dense(1, activation='linear'))"
      ],
      "execution_count": null,
      "outputs": []
    },
    {
      "cell_type": "code",
      "metadata": {
        "colab": {
          "base_uri": "https://localhost:8080/"
        },
        "id": "w60BmHK3Ymiy",
        "outputId": "904d4a0d-6175-48ee-b12b-9116afc8557e"
      },
      "source": [
        "X_train.shape"
      ],
      "execution_count": null,
      "outputs": [
        {
          "output_type": "execute_result",
          "data": {
            "text/plain": [
              "(875, 4)"
            ]
          },
          "metadata": {
            "tags": []
          },
          "execution_count": 264
        }
      ]
    },
    {
      "cell_type": "code",
      "metadata": {
        "id": "ENLxNoABYoJj"
      },
      "source": [
        "import keras"
      ],
      "execution_count": null,
      "outputs": []
    },
    {
      "cell_type": "markdown",
      "metadata": {
        "id": "iNkSn0UmkCej"
      },
      "source": [
        "A través de la Librería Keras construimos nuestra red neuronal"
      ]
    },
    {
      "cell_type": "code",
      "metadata": {
        "id": "QOn1xI8Ddgeo"
      },
      "source": [
        "from keras.layers import Dense"
      ],
      "execution_count": null,
      "outputs": []
    },
    {
      "cell_type": "code",
      "metadata": {
        "id": "pFTAfstuZRQ6"
      },
      "source": [
        "model = keras.Sequential()\n",
        "model.add(keras.layers.Dense(64, activation='relu', input_shape=[4]))\n",
        "model.add(keras.layers.Dense(1, activation='sigmoid'))"
      ],
      "execution_count": null,
      "outputs": []
    },
    {
      "cell_type": "code",
      "metadata": {
        "colab": {
          "base_uri": "https://localhost:8080/"
        },
        "id": "JRrXCadOZTOV",
        "outputId": "5c2d9723-18a7-49fc-ccab-347d7321a87b"
      },
      "source": [
        "model.summary()"
      ],
      "execution_count": null,
      "outputs": [
        {
          "output_type": "stream",
          "text": [
            "Model: \"sequential_3\"\n",
            "_________________________________________________________________\n",
            "Layer (type)                 Output Shape              Param #   \n",
            "=================================================================\n",
            "dense_7 (Dense)              (None, 64)                320       \n",
            "_________________________________________________________________\n",
            "dense_8 (Dense)              (None, 1)                 65        \n",
            "=================================================================\n",
            "Total params: 385\n",
            "Trainable params: 385\n",
            "Non-trainable params: 0\n",
            "_________________________________________________________________\n"
          ],
          "name": "stdout"
        }
      ]
    },
    {
      "cell_type": "code",
      "metadata": {
        "id": "hvP7-VhAZi4N"
      },
      "source": [
        "model.compile(loss='mse', optimizer='adam', metrics='mae')"
      ],
      "execution_count": null,
      "outputs": []
    },
    {
      "cell_type": "code",
      "metadata": {
        "colab": {
          "base_uri": "https://localhost:8080/"
        },
        "id": "Bmm_V7wUZlBG",
        "outputId": "5eb9a129-0375-4128-9519-cabce6d964a5"
      },
      "source": [
        "history = model.fit(X_train, y_train,validation_split=0.2, batch_size=15, epochs=50, verbose=1, )"
      ],
      "execution_count": null,
      "outputs": [
        {
          "output_type": "stream",
          "text": [
            "Epoch 1/50\n",
            "47/47 [==============================] - 1s 5ms/step - loss: 13.2745 - mae: 3.6370 - val_loss: 13.1961 - val_mae: 3.6263\n",
            "Epoch 2/50\n",
            "47/47 [==============================] - 0s 1ms/step - loss: 13.1773 - mae: 3.6225 - val_loss: 13.1961 - val_mae: 3.6263\n",
            "Epoch 3/50\n",
            "47/47 [==============================] - 0s 1ms/step - loss: 13.2823 - mae: 3.6381 - val_loss: 13.1961 - val_mae: 3.6263\n",
            "Epoch 4/50\n",
            "47/47 [==============================] - 0s 2ms/step - loss: 13.1924 - mae: 3.6254 - val_loss: 13.1961 - val_mae: 3.6263\n",
            "Epoch 5/50\n",
            "47/47 [==============================] - 0s 2ms/step - loss: 13.2487 - mae: 3.6329 - val_loss: 13.1961 - val_mae: 3.6263\n",
            "Epoch 6/50\n",
            "47/47 [==============================] - 0s 2ms/step - loss: 13.2289 - mae: 3.6311 - val_loss: 13.1961 - val_mae: 3.6263\n",
            "Epoch 7/50\n",
            "47/47 [==============================] - 0s 1ms/step - loss: 13.1749 - mae: 3.6232 - val_loss: 13.1961 - val_mae: 3.6263\n",
            "Epoch 8/50\n",
            "47/47 [==============================] - 0s 2ms/step - loss: 13.2088 - mae: 3.6276 - val_loss: 13.1961 - val_mae: 3.6263\n",
            "Epoch 9/50\n",
            "47/47 [==============================] - 0s 1ms/step - loss: 13.2712 - mae: 3.6365 - val_loss: 13.1961 - val_mae: 3.6263\n",
            "Epoch 10/50\n",
            "47/47 [==============================] - 0s 1ms/step - loss: 13.1720 - mae: 3.6225 - val_loss: 13.1961 - val_mae: 3.6263\n",
            "Epoch 11/50\n",
            "47/47 [==============================] - 0s 1ms/step - loss: 13.2549 - mae: 3.6340 - val_loss: 13.1961 - val_mae: 3.6263\n",
            "Epoch 12/50\n",
            "47/47 [==============================] - 0s 1ms/step - loss: 13.3324 - mae: 3.6447 - val_loss: 13.1961 - val_mae: 3.6263\n",
            "Epoch 13/50\n",
            "47/47 [==============================] - 0s 1ms/step - loss: 13.2105 - mae: 3.6283 - val_loss: 13.1961 - val_mae: 3.6263\n",
            "Epoch 14/50\n",
            "47/47 [==============================] - 0s 2ms/step - loss: 13.2419 - mae: 3.6326 - val_loss: 13.1961 - val_mae: 3.6263\n",
            "Epoch 15/50\n",
            "47/47 [==============================] - 0s 1ms/step - loss: 13.2891 - mae: 3.6389 - val_loss: 13.1961 - val_mae: 3.6263\n",
            "Epoch 16/50\n",
            "47/47 [==============================] - 0s 1ms/step - loss: 13.1496 - mae: 3.6196 - val_loss: 13.1961 - val_mae: 3.6263\n",
            "Epoch 17/50\n",
            "47/47 [==============================] - 0s 1ms/step - loss: 13.2154 - mae: 3.6286 - val_loss: 13.1961 - val_mae: 3.6263\n",
            "Epoch 18/50\n",
            "47/47 [==============================] - 0s 2ms/step - loss: 13.2238 - mae: 3.6298 - val_loss: 13.1961 - val_mae: 3.6263\n",
            "Epoch 19/50\n",
            "47/47 [==============================] - 0s 2ms/step - loss: 13.2424 - mae: 3.6320 - val_loss: 13.1961 - val_mae: 3.6263\n",
            "Epoch 20/50\n",
            "47/47 [==============================] - 0s 2ms/step - loss: 13.2781 - mae: 3.6378 - val_loss: 13.1961 - val_mae: 3.6263\n",
            "Epoch 21/50\n",
            "47/47 [==============================] - 0s 2ms/step - loss: 13.2510 - mae: 3.6345 - val_loss: 13.1961 - val_mae: 3.6263\n",
            "Epoch 22/50\n",
            "47/47 [==============================] - 0s 1ms/step - loss: 13.3662 - mae: 3.6497 - val_loss: 13.1961 - val_mae: 3.6263\n",
            "Epoch 23/50\n",
            "47/47 [==============================] - 0s 1ms/step - loss: 13.2522 - mae: 3.6345 - val_loss: 13.1961 - val_mae: 3.6263\n",
            "Epoch 24/50\n",
            "47/47 [==============================] - 0s 2ms/step - loss: 13.2774 - mae: 3.6374 - val_loss: 13.1961 - val_mae: 3.6263\n",
            "Epoch 25/50\n",
            "47/47 [==============================] - 0s 1ms/step - loss: 13.3563 - mae: 3.6496 - val_loss: 13.1961 - val_mae: 3.6263\n",
            "Epoch 26/50\n",
            "47/47 [==============================] - 0s 2ms/step - loss: 13.2341 - mae: 3.6311 - val_loss: 13.1961 - val_mae: 3.6263\n",
            "Epoch 27/50\n",
            "47/47 [==============================] - 0s 1ms/step - loss: 13.3009 - mae: 3.6419 - val_loss: 13.1961 - val_mae: 3.6263\n",
            "Epoch 28/50\n",
            "47/47 [==============================] - 0s 2ms/step - loss: 13.2396 - mae: 3.6322 - val_loss: 13.1961 - val_mae: 3.6263\n",
            "Epoch 29/50\n",
            "47/47 [==============================] - 0s 1ms/step - loss: 13.2827 - mae: 3.6394 - val_loss: 13.1961 - val_mae: 3.6263\n",
            "Epoch 30/50\n",
            "47/47 [==============================] - 0s 1ms/step - loss: 13.2086 - mae: 3.6282 - val_loss: 13.1961 - val_mae: 3.6263\n",
            "Epoch 31/50\n",
            "47/47 [==============================] - 0s 1ms/step - loss: 13.2077 - mae: 3.6284 - val_loss: 13.1961 - val_mae: 3.6263\n",
            "Epoch 32/50\n",
            "47/47 [==============================] - 0s 2ms/step - loss: 13.2095 - mae: 3.6272 - val_loss: 13.1961 - val_mae: 3.6263\n",
            "Epoch 33/50\n",
            "47/47 [==============================] - 0s 1ms/step - loss: 13.2508 - mae: 3.6334 - val_loss: 13.1961 - val_mae: 3.6263\n",
            "Epoch 34/50\n",
            "47/47 [==============================] - 0s 1ms/step - loss: 13.3482 - mae: 3.6476 - val_loss: 13.1961 - val_mae: 3.6263\n",
            "Epoch 35/50\n",
            "47/47 [==============================] - 0s 2ms/step - loss: 13.2696 - mae: 3.6369 - val_loss: 13.1961 - val_mae: 3.6263\n",
            "Epoch 36/50\n",
            "47/47 [==============================] - 0s 1ms/step - loss: 13.2697 - mae: 3.6372 - val_loss: 13.1961 - val_mae: 3.6263\n",
            "Epoch 37/50\n",
            "47/47 [==============================] - 0s 2ms/step - loss: 13.3236 - mae: 3.6445 - val_loss: 13.1961 - val_mae: 3.6263\n",
            "Epoch 38/50\n",
            "47/47 [==============================] - 0s 1ms/step - loss: 13.2992 - mae: 3.6413 - val_loss: 13.1961 - val_mae: 3.6263\n",
            "Epoch 39/50\n",
            "47/47 [==============================] - 0s 1ms/step - loss: 13.1980 - mae: 3.6255 - val_loss: 13.1961 - val_mae: 3.6263\n",
            "Epoch 40/50\n",
            "47/47 [==============================] - 0s 1ms/step - loss: 13.1340 - mae: 3.6161 - val_loss: 13.1961 - val_mae: 3.6263\n",
            "Epoch 41/50\n",
            "47/47 [==============================] - 0s 1ms/step - loss: 13.1705 - mae: 3.6222 - val_loss: 13.1961 - val_mae: 3.6263\n",
            "Epoch 42/50\n",
            "47/47 [==============================] - 0s 1ms/step - loss: 13.1951 - mae: 3.6263 - val_loss: 13.1961 - val_mae: 3.6263\n",
            "Epoch 43/50\n",
            "47/47 [==============================] - 0s 1ms/step - loss: 13.1730 - mae: 3.6222 - val_loss: 13.1961 - val_mae: 3.6263\n",
            "Epoch 44/50\n",
            "47/47 [==============================] - 0s 2ms/step - loss: 13.1510 - mae: 3.6199 - val_loss: 13.1961 - val_mae: 3.6263\n",
            "Epoch 45/50\n",
            "47/47 [==============================] - 0s 2ms/step - loss: 13.2234 - mae: 3.6298 - val_loss: 13.1961 - val_mae: 3.6263\n",
            "Epoch 46/50\n",
            "47/47 [==============================] - 0s 1ms/step - loss: 13.3016 - mae: 3.6409 - val_loss: 13.1961 - val_mae: 3.6263\n",
            "Epoch 47/50\n",
            "47/47 [==============================] - 0s 2ms/step - loss: 13.3405 - mae: 3.6468 - val_loss: 13.1961 - val_mae: 3.6263\n",
            "Epoch 48/50\n",
            "47/47 [==============================] - 0s 1ms/step - loss: 13.2069 - mae: 3.6276 - val_loss: 13.1961 - val_mae: 3.6263\n",
            "Epoch 49/50\n",
            "47/47 [==============================] - 0s 1ms/step - loss: 13.2708 - mae: 3.6364 - val_loss: 13.1961 - val_mae: 3.6263\n",
            "Epoch 50/50\n",
            "47/47 [==============================] - 0s 2ms/step - loss: 13.2242 - mae: 3.6298 - val_loss: 13.1961 - val_mae: 3.6263\n"
          ],
          "name": "stdout"
        }
      ]
    },
    {
      "cell_type": "code",
      "metadata": {
        "id": "fdfSiDLIZwVm"
      },
      "source": [
        "import matplotlib.pyplot as plt"
      ],
      "execution_count": null,
      "outputs": []
    },
    {
      "cell_type": "code",
      "metadata": {
        "colab": {
          "base_uri": "https://localhost:8080/",
          "height": 392
        },
        "id": "_HE_jKc-Zx3d",
        "outputId": "1f804c44-8e35-4c86-cf52-6e4b7502d709"
      },
      "source": [
        "plt.figure(figsize=(15,6))\n",
        "plt.plot(history.history['mae'])\n",
        "plt.plot(history.history['val_mae'])"
      ],
      "execution_count": null,
      "outputs": [
        {
          "output_type": "execute_result",
          "data": {
            "text/plain": [
              "[<matplotlib.lines.Line2D at 0x7fbf82a86a10>]"
            ]
          },
          "metadata": {
            "tags": []
          },
          "execution_count": 327
        },
        {
          "output_type": "display_data",
          "data": {
            "image/png": "[encoded data removed]",
            "text/plain": [
              "<Figure size 1080x432 with 1 Axes>"
            ]
          },
          "metadata": {
            "tags": [],
            "needs_background": "light"
          }
        }
      ]
    },
    {
      "cell_type": "code",
      "metadata": {
        "id": "U1NqypSRb4Zy"
      },
      "source": [
        "from sklearn.metrics import classification_report, confusion_matrix"
      ],
      "execution_count": null,
      "outputs": []
    },
    {
      "cell_type": "code",
      "metadata": {
        "id": "dsWkdpwqb_Z6"
      },
      "source": [
        "y_pred =(model.predict(X_test))"
      ],
      "execution_count": null,
      "outputs": []
    },
    {
      "cell_type": "code",
      "metadata": {
        "colab": {
          "base_uri": "https://localhost:8080/",
          "height": 592
        },
        "id": "P0l0sshpebW2",
        "outputId": "d1936f92-72e0-408b-898b-ee43ea942d0c"
      },
      "source": [
        "plt.figure(figsize=(10,10))\n",
        "plt.scatter( y_test, y_pred, color='red', alpha=0.5)\n",
        "_ = plt.plot([0,5], [0,5])\n",
        "plt.show()"
      ],
      "execution_count": null,
      "outputs": [
        {
          "output_type": "display_data",
          "data": {
            "image/png": "[encoded data removed]",
            "text/plain": [
              "<Figure size 720x720 with 1 Axes>"
            ]
          },
          "metadata": {
            "tags": [],
            "needs_background": "light"
          }
        }
      ]
    },
    {
      "cell_type": "code",
      "metadata": {
        "colab": {
          "base_uri": "https://localhost:8080/",
          "height": 334
        },
        "id": "N19hhAtJeeeV",
        "outputId": "0385433d-a5d9-4fec-8122-cec2afa9ed94"
      },
      "source": [
        "error = abs(y_pred[0] - y_test)\n",
        "plt.figure(figsize=(15,5))\n",
        "plt.hist(error, bins = 50)\n",
        "plt.xlabel(\"Prediction Error\")\n",
        "_ = plt.ylabel(\"Count\")"
      ],
      "execution_count": null,
      "outputs": [
        {
          "output_type": "display_data",
          "data": {
            "image/png": "[encoded data removed]",
            "text/plain": [
              "<Figure size 1080x360 with 1 Axes>"
            ]
          },
          "metadata": {
            "tags": [],
            "needs_background": "light"
          }
        }
      ]
    }
  ]
}